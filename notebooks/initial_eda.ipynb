{
 "cells": [
  {
   "cell_type": "code",
   "execution_count": 18,
   "metadata": {},
   "outputs": [],
   "source": [
    "import pandas as pd"
   ]
  },
  {
   "cell_type": "code",
   "execution_count": 19,
   "metadata": {},
   "outputs": [],
   "source": [
    "weather = pd.read_csv('../Data/bna_weather.csv')"
   ]
  },
  {
   "cell_type": "code",
   "execution_count": 20,
   "metadata": {},
   "outputs": [],
   "source": [
    "bus = pd.read_csv('../Data/headway_data.csv', index_col= False)"
   ]
  },
  {
   "cell_type": "markdown",
   "metadata": {},
   "source": [
    "Remove an unnamed column that was on the csv file"
   ]
  },
  {
   "cell_type": "code",
   "execution_count": 21,
   "metadata": {},
   "outputs": [],
   "source": [
    "bus = bus.loc[:, ~bus.columns.str.match('^Unnamed:')]"
   ]
  },
  {
   "cell_type": "markdown",
   "metadata": {},
   "source": [
    "Convert the date column values to datetime format"
   ]
  },
  {
   "cell_type": "code",
   "execution_count": 22,
   "metadata": {},
   "outputs": [],
   "source": [
    "bus['DATE'] = pd.to_datetime(bus['DATE'])"
   ]
  },
  {
   "cell_type": "markdown",
   "metadata": {},
   "source": [
    ".info() to look at the data"
   ]
  },
  {
   "cell_type": "code",
   "execution_count": 23,
   "metadata": {},
   "outputs": [
    {
     "name": "stdout",
     "output_type": "stream",
     "text": [
      "<class 'pandas.core.frame.DataFrame'>\n",
      "RangeIndex: 350328 entries, 0 to 350327\n",
      "Data columns (total 30 columns):\n",
      " #   Column                     Non-Null Count   Dtype         \n",
      "---  ------                     --------------   -----         \n",
      " 0   CALENDAR_ID                350328 non-null  int64         \n",
      " 1   SERVICE_ABBR               350328 non-null  int64         \n",
      " 2   ADHERENCE_ID               350328 non-null  int64         \n",
      " 3   DATE                       350328 non-null  datetime64[ns]\n",
      " 4   ROUTE_ABBR                 350328 non-null  int64         \n",
      " 5   BLOCK_ABBR                 350328 non-null  int64         \n",
      " 6   OPERATOR                   350328 non-null  int64         \n",
      " 7   TRIP_ID                    350328 non-null  int64         \n",
      " 8   OVERLOAD_ID                350328 non-null  int64         \n",
      " 9   ROUTE_DIRECTION_NAME       350328 non-null  object        \n",
      " 10  TIME_POINT_ABBR            350328 non-null  object        \n",
      " 11  ROUTE_STOP_SEQUENCE        350317 non-null  float64       \n",
      " 12  TRIP_EDGE                  350328 non-null  int64         \n",
      " 13  LATITUDE                   350328 non-null  float64       \n",
      " 14  LONGITUDE                  350328 non-null  float64       \n",
      " 15  SCHEDULED_TIME             350328 non-null  object        \n",
      " 16  ACTUAL_ARRIVAL_TIME        338869 non-null  object        \n",
      " 17  ACTUAL_DEPARTURE_TIME      338860 non-null  object        \n",
      " 18  ADHERENCE                  338860 non-null  float64       \n",
      " 19  SCHEDULED_HDWY             274737 non-null  float64       \n",
      " 20  ACTUAL_HDWY                266061 non-null  float64       \n",
      " 21  HDWY_DEV                   265892 non-null  float64       \n",
      " 22  ADJUSTED_EARLY_COUNT       350328 non-null  int64         \n",
      " 23  ADJUSTED_LATE_COUNT        350328 non-null  int64         \n",
      " 24  ADJUSTED_ONTIME_COUNT      350328 non-null  int64         \n",
      " 25  STOP_CANCELLED             350328 non-null  int64         \n",
      " 26  PREV_SCHED_STOP_CANCELLED  279999 non-null  float64       \n",
      " 27  IS_RELIEF                  350328 non-null  int64         \n",
      " 28  BLOCK_STOP_ORDER           350328 non-null  int64         \n",
      " 29  DWELL_IN_MINS              338857 non-null  float64       \n",
      "dtypes: datetime64[ns](1), float64(9), int64(15), object(5)\n",
      "memory usage: 80.2+ MB\n"
     ]
    }
   ],
   "source": [
    "bus.info()"
   ]
  },
  {
   "cell_type": "markdown",
   "metadata": {},
   "source": [
    "Ideas: Identify a unique identifier that identifies a trip in a single day!\n",
    "\n",
    "Michael's suggestion:\n",
    "\n",
    "    The tripid column is reused across days. If you want a unique identifier for a trip, you'll need to combine the tripid and some kind of date identifier, like date or calendarid."
   ]
  },
  {
   "cell_type": "code",
   "execution_count": 24,
   "metadata": {},
   "outputs": [],
   "source": [
    "bus['trip_date'] = bus['TRIP_ID'].astype('str') + bus['CALENDAR_ID'].astype('str')"
   ]
  },
  {
   "cell_type": "code",
   "execution_count": 25,
   "metadata": {},
   "outputs": [],
   "source": [
    "bus_no_overload = bus[bus['OVERLOAD_ID']==0]"
   ]
  },
  {
   "cell_type": "code",
   "execution_count": 26,
   "metadata": {},
   "outputs": [
    {
     "data": {
      "text/plain": [
       "count              350328\n",
       "unique              67370\n",
       "top       353036120230926\n",
       "freq                   21\n",
       "Name: trip_date, dtype: object"
      ]
     },
     "execution_count": 26,
     "metadata": {},
     "output_type": "execute_result"
    }
   ],
   "source": [
    "bus['trip_date'].describe()"
   ]
  },
  {
   "cell_type": "code",
   "execution_count": 27,
   "metadata": {},
   "outputs": [
    {
     "data": {
      "text/plain": [
       "count               67415\n",
       "unique              67361\n",
       "top       350216120230907\n",
       "freq                    2\n",
       "Name: trip_date, dtype: object"
      ]
     },
     "execution_count": 27,
     "metadata": {},
     "output_type": "execute_result"
    }
   ],
   "source": [
    "bus[bus['TRIP_EDGE']==1]['trip_date'].describe()"
   ]
  },
  {
   "cell_type": "markdown",
   "metadata": {},
   "source": [
    "Total unique trip_id is 67370\n",
    "\n",
    "of which only 67361 of them have trip_edge =1 (START)\n",
    "\n",
    "\n",
    "_some entries with trip_id are repeated twice (for starting) and three times (for trip_id =2) at most_"
   ]
  },
  {
   "cell_type": "code",
   "execution_count": 28,
   "metadata": {},
   "outputs": [],
   "source": [
    "import numpy as np\n",
    "import seaborn as sns\n",
    "import matplotlib.pyplot as plt\n",
    "bus_start_end = bus_no_overload.groupby(\n",
    "    ['trip_date','TRIP_EDGE']).filter(\n",
    "        lambda x: (\n",
    "            1 in x['TRIP_EDGE'].values) or (\n",
    "                2 in x['TRIP_EDGE'].values))\n",
    "\n"
   ]
  },
  {
   "cell_type": "code",
   "execution_count": 29,
   "metadata": {},
   "outputs": [],
   "source": [
    "bus_start_end_grouped =  bus_start_end.groupby(['trip_date','TRIP_EDGE'])['ADHERENCE'].apply(list).reset_index()"
   ]
  },
  {
   "cell_type": "code",
   "execution_count": 30,
   "metadata": {},
   "outputs": [
    {
     "data": {
      "text/html": [
       "<div>\n",
       "<style scoped>\n",
       "    .dataframe tbody tr th:only-of-type {\n",
       "        vertical-align: middle;\n",
       "    }\n",
       "\n",
       "    .dataframe tbody tr th {\n",
       "        vertical-align: top;\n",
       "    }\n",
       "\n",
       "    .dataframe thead th {\n",
       "        text-align: right;\n",
       "    }\n",
       "</style>\n",
       "<table border=\"1\" class=\"dataframe\">\n",
       "  <thead>\n",
       "    <tr style=\"text-align: right;\">\n",
       "      <th></th>\n",
       "      <th>trip_date</th>\n",
       "      <th>TRIP_EDGE</th>\n",
       "      <th>ADHERENCE</th>\n",
       "    </tr>\n",
       "  </thead>\n",
       "  <tbody>\n",
       "    <tr>\n",
       "      <th>0</th>\n",
       "      <td>345104120230801</td>\n",
       "      <td>1</td>\n",
       "      <td>[-2.133333]</td>\n",
       "    </tr>\n",
       "    <tr>\n",
       "      <th>1</th>\n",
       "      <td>345104120230801</td>\n",
       "      <td>2</td>\n",
       "      <td>[6.283333]</td>\n",
       "    </tr>\n",
       "    <tr>\n",
       "      <th>2</th>\n",
       "      <td>345104120230802</td>\n",
       "      <td>1</td>\n",
       "      <td>[-2.45]</td>\n",
       "    </tr>\n",
       "    <tr>\n",
       "      <th>3</th>\n",
       "      <td>345104120230802</td>\n",
       "      <td>2</td>\n",
       "      <td>[8.016666]</td>\n",
       "    </tr>\n",
       "    <tr>\n",
       "      <th>4</th>\n",
       "      <td>345104120230803</td>\n",
       "      <td>1</td>\n",
       "      <td>[-0.766666]</td>\n",
       "    </tr>\n",
       "    <tr>\n",
       "      <th>...</th>\n",
       "      <td>...</td>\n",
       "      <td>...</td>\n",
       "      <td>...</td>\n",
       "    </tr>\n",
       "    <tr>\n",
       "      <th>134704</th>\n",
       "      <td>354106120230927</td>\n",
       "      <td>2</td>\n",
       "      <td>[-166.566666]</td>\n",
       "    </tr>\n",
       "    <tr>\n",
       "      <th>134705</th>\n",
       "      <td>354106120230928</td>\n",
       "      <td>1</td>\n",
       "      <td>[-2.566666]</td>\n",
       "    </tr>\n",
       "    <tr>\n",
       "      <th>134706</th>\n",
       "      <td>354106120230928</td>\n",
       "      <td>2</td>\n",
       "      <td>[-5.816666]</td>\n",
       "    </tr>\n",
       "    <tr>\n",
       "      <th>134707</th>\n",
       "      <td>354106120230929</td>\n",
       "      <td>1</td>\n",
       "      <td>[-20.616666]</td>\n",
       "    </tr>\n",
       "    <tr>\n",
       "      <th>134708</th>\n",
       "      <td>354106120230929</td>\n",
       "      <td>2</td>\n",
       "      <td>[-15.933333]</td>\n",
       "    </tr>\n",
       "  </tbody>\n",
       "</table>\n",
       "<p>134709 rows × 3 columns</p>\n",
       "</div>"
      ],
      "text/plain": [
       "              trip_date  TRIP_EDGE      ADHERENCE\n",
       "0       345104120230801          1    [-2.133333]\n",
       "1       345104120230801          2     [6.283333]\n",
       "2       345104120230802          1        [-2.45]\n",
       "3       345104120230802          2     [8.016666]\n",
       "4       345104120230803          1    [-0.766666]\n",
       "...                 ...        ...            ...\n",
       "134704  354106120230927          2  [-166.566666]\n",
       "134705  354106120230928          1    [-2.566666]\n",
       "134706  354106120230928          2    [-5.816666]\n",
       "134707  354106120230929          1   [-20.616666]\n",
       "134708  354106120230929          2   [-15.933333]\n",
       "\n",
       "[134709 rows x 3 columns]"
      ]
     },
     "execution_count": 30,
     "metadata": {},
     "output_type": "execute_result"
    }
   ],
   "source": [
    "bus_start_end_grouped"
   ]
  },
  {
   "cell_type": "code",
   "execution_count": 31,
   "metadata": {},
   "outputs": [],
   "source": [
    "# Loop over the 'list_column' and count the number of items in each list\n",
    "for row in bus_start_end_grouped['ADHERENCE']:\n",
    "    count = len(row)\n",
    "    if count != 1:\n",
    "        print('Not One')"
   ]
  },
  {
   "cell_type": "markdown",
   "metadata": {},
   "source": [
    "#### There's only one item in all the list of the column\n"
   ]
  },
  {
   "cell_type": "code",
   "execution_count": 32,
   "metadata": {},
   "outputs": [],
   "source": [
    "grouped_reset = bus_start_end.groupby(['trip_date','TRIP_EDGE'])['ADHERENCE'].mean().reset_index()"
   ]
  },
  {
   "cell_type": "code",
   "execution_count": 33,
   "metadata": {},
   "outputs": [
    {
     "data": {
      "text/html": [
       "<div>\n",
       "<style scoped>\n",
       "    .dataframe tbody tr th:only-of-type {\n",
       "        vertical-align: middle;\n",
       "    }\n",
       "\n",
       "    .dataframe tbody tr th {\n",
       "        vertical-align: top;\n",
       "    }\n",
       "\n",
       "    .dataframe thead th {\n",
       "        text-align: right;\n",
       "    }\n",
       "</style>\n",
       "<table border=\"1\" class=\"dataframe\">\n",
       "  <thead>\n",
       "    <tr style=\"text-align: right;\">\n",
       "      <th></th>\n",
       "      <th>trip_date</th>\n",
       "      <th>TRIP_EDGE</th>\n",
       "      <th>ADHERENCE</th>\n",
       "    </tr>\n",
       "  </thead>\n",
       "  <tbody>\n",
       "    <tr>\n",
       "      <th>0</th>\n",
       "      <td>345104120230801</td>\n",
       "      <td>1</td>\n",
       "      <td>-2.133333</td>\n",
       "    </tr>\n",
       "    <tr>\n",
       "      <th>1</th>\n",
       "      <td>345104120230801</td>\n",
       "      <td>2</td>\n",
       "      <td>6.283333</td>\n",
       "    </tr>\n",
       "    <tr>\n",
       "      <th>2</th>\n",
       "      <td>345104120230802</td>\n",
       "      <td>1</td>\n",
       "      <td>-2.450000</td>\n",
       "    </tr>\n",
       "    <tr>\n",
       "      <th>3</th>\n",
       "      <td>345104120230802</td>\n",
       "      <td>2</td>\n",
       "      <td>8.016666</td>\n",
       "    </tr>\n",
       "    <tr>\n",
       "      <th>4</th>\n",
       "      <td>345104120230803</td>\n",
       "      <td>1</td>\n",
       "      <td>-0.766666</td>\n",
       "    </tr>\n",
       "    <tr>\n",
       "      <th>...</th>\n",
       "      <td>...</td>\n",
       "      <td>...</td>\n",
       "      <td>...</td>\n",
       "    </tr>\n",
       "    <tr>\n",
       "      <th>134704</th>\n",
       "      <td>354106120230927</td>\n",
       "      <td>2</td>\n",
       "      <td>-166.566666</td>\n",
       "    </tr>\n",
       "    <tr>\n",
       "      <th>134705</th>\n",
       "      <td>354106120230928</td>\n",
       "      <td>1</td>\n",
       "      <td>-2.566666</td>\n",
       "    </tr>\n",
       "    <tr>\n",
       "      <th>134706</th>\n",
       "      <td>354106120230928</td>\n",
       "      <td>2</td>\n",
       "      <td>-5.816666</td>\n",
       "    </tr>\n",
       "    <tr>\n",
       "      <th>134707</th>\n",
       "      <td>354106120230929</td>\n",
       "      <td>1</td>\n",
       "      <td>-20.616666</td>\n",
       "    </tr>\n",
       "    <tr>\n",
       "      <th>134708</th>\n",
       "      <td>354106120230929</td>\n",
       "      <td>2</td>\n",
       "      <td>-15.933333</td>\n",
       "    </tr>\n",
       "  </tbody>\n",
       "</table>\n",
       "<p>134709 rows × 3 columns</p>\n",
       "</div>"
      ],
      "text/plain": [
       "              trip_date  TRIP_EDGE   ADHERENCE\n",
       "0       345104120230801          1   -2.133333\n",
       "1       345104120230801          2    6.283333\n",
       "2       345104120230802          1   -2.450000\n",
       "3       345104120230802          2    8.016666\n",
       "4       345104120230803          1   -0.766666\n",
       "...                 ...        ...         ...\n",
       "134704  354106120230927          2 -166.566666\n",
       "134705  354106120230928          1   -2.566666\n",
       "134706  354106120230928          2   -5.816666\n",
       "134707  354106120230929          1  -20.616666\n",
       "134708  354106120230929          2  -15.933333\n",
       "\n",
       "[134709 rows x 3 columns]"
      ]
     },
     "execution_count": 33,
     "metadata": {},
     "output_type": "execute_result"
    }
   ],
   "source": [
    "grouped_reset"
   ]
  },
  {
   "cell_type": "markdown",
   "metadata": {},
   "source": [
    "Goal is to plot adherence for each trip with edge=2 vs edge =1 \n",
    "\n",
    "Problem: They are not the same dimenstions"
   ]
  },
  {
   "cell_type": "code",
   "execution_count": 34,
   "metadata": {},
   "outputs": [
    {
     "data": {
      "text/plain": [
       "1         2\n",
       "3         2\n",
       "5         2\n",
       "7         2\n",
       "9         2\n",
       "         ..\n",
       "134699    1\n",
       "134701    1\n",
       "134703    1\n",
       "134705    1\n",
       "134707    1\n",
       "Name: TRIP_EDGE, Length: 67354, dtype: int64"
      ]
     },
     "execution_count": 34,
     "metadata": {},
     "output_type": "execute_result"
    }
   ],
   "source": [
    "grouped_reset['TRIP_EDGE'].iloc[1::2]"
   ]
  },
  {
   "cell_type": "code",
   "execution_count": 35,
   "metadata": {},
   "outputs": [
    {
     "data": {
      "text/html": [
       "<div>\n",
       "<style scoped>\n",
       "    .dataframe tbody tr th:only-of-type {\n",
       "        vertical-align: middle;\n",
       "    }\n",
       "\n",
       "    .dataframe tbody tr th {\n",
       "        vertical-align: top;\n",
       "    }\n",
       "\n",
       "    .dataframe thead th {\n",
       "        text-align: right;\n",
       "    }\n",
       "</style>\n",
       "<table border=\"1\" class=\"dataframe\">\n",
       "  <thead>\n",
       "    <tr style=\"text-align: right;\">\n",
       "      <th></th>\n",
       "      <th>trip_date</th>\n",
       "      <th>TRIP_EDGE</th>\n",
       "      <th>ADHERENCE</th>\n",
       "      <th>differences</th>\n",
       "      <th>periodicity_break</th>\n",
       "    </tr>\n",
       "  </thead>\n",
       "  <tbody>\n",
       "    <tr>\n",
       "      <th>0</th>\n",
       "      <td>345104120230801</td>\n",
       "      <td>1</td>\n",
       "      <td>-2.133333</td>\n",
       "      <td>NaN</td>\n",
       "      <td>True</td>\n",
       "    </tr>\n",
       "    <tr>\n",
       "      <th>1</th>\n",
       "      <td>345104120230801</td>\n",
       "      <td>2</td>\n",
       "      <td>6.283333</td>\n",
       "      <td>1.0</td>\n",
       "      <td>False</td>\n",
       "    </tr>\n",
       "    <tr>\n",
       "      <th>2</th>\n",
       "      <td>345104120230802</td>\n",
       "      <td>1</td>\n",
       "      <td>-2.450000</td>\n",
       "      <td>-1.0</td>\n",
       "      <td>False</td>\n",
       "    </tr>\n",
       "    <tr>\n",
       "      <th>3</th>\n",
       "      <td>345104120230802</td>\n",
       "      <td>2</td>\n",
       "      <td>8.016666</td>\n",
       "      <td>1.0</td>\n",
       "      <td>False</td>\n",
       "    </tr>\n",
       "    <tr>\n",
       "      <th>4</th>\n",
       "      <td>345104120230803</td>\n",
       "      <td>1</td>\n",
       "      <td>-0.766666</td>\n",
       "      <td>-1.0</td>\n",
       "      <td>False</td>\n",
       "    </tr>\n",
       "    <tr>\n",
       "      <th>...</th>\n",
       "      <td>...</td>\n",
       "      <td>...</td>\n",
       "      <td>...</td>\n",
       "      <td>...</td>\n",
       "      <td>...</td>\n",
       "    </tr>\n",
       "    <tr>\n",
       "      <th>134704</th>\n",
       "      <td>354106120230927</td>\n",
       "      <td>2</td>\n",
       "      <td>-166.566666</td>\n",
       "      <td>1.0</td>\n",
       "      <td>False</td>\n",
       "    </tr>\n",
       "    <tr>\n",
       "      <th>134705</th>\n",
       "      <td>354106120230928</td>\n",
       "      <td>1</td>\n",
       "      <td>-2.566666</td>\n",
       "      <td>-1.0</td>\n",
       "      <td>False</td>\n",
       "    </tr>\n",
       "    <tr>\n",
       "      <th>134706</th>\n",
       "      <td>354106120230928</td>\n",
       "      <td>2</td>\n",
       "      <td>-5.816666</td>\n",
       "      <td>1.0</td>\n",
       "      <td>False</td>\n",
       "    </tr>\n",
       "    <tr>\n",
       "      <th>134707</th>\n",
       "      <td>354106120230929</td>\n",
       "      <td>1</td>\n",
       "      <td>-20.616666</td>\n",
       "      <td>-1.0</td>\n",
       "      <td>False</td>\n",
       "    </tr>\n",
       "    <tr>\n",
       "      <th>134708</th>\n",
       "      <td>354106120230929</td>\n",
       "      <td>2</td>\n",
       "      <td>-15.933333</td>\n",
       "      <td>1.0</td>\n",
       "      <td>False</td>\n",
       "    </tr>\n",
       "  </tbody>\n",
       "</table>\n",
       "<p>134709 rows × 5 columns</p>\n",
       "</div>"
      ],
      "text/plain": [
       "              trip_date  TRIP_EDGE   ADHERENCE  differences  periodicity_break\n",
       "0       345104120230801          1   -2.133333          NaN               True\n",
       "1       345104120230801          2    6.283333          1.0              False\n",
       "2       345104120230802          1   -2.450000         -1.0              False\n",
       "3       345104120230802          2    8.016666          1.0              False\n",
       "4       345104120230803          1   -0.766666         -1.0              False\n",
       "...                 ...        ...         ...          ...                ...\n",
       "134704  354106120230927          2 -166.566666          1.0              False\n",
       "134705  354106120230928          1   -2.566666         -1.0              False\n",
       "134706  354106120230928          2   -5.816666          1.0              False\n",
       "134707  354106120230929          1  -20.616666         -1.0              False\n",
       "134708  354106120230929          2  -15.933333          1.0              False\n",
       "\n",
       "[134709 rows x 5 columns]"
      ]
     },
     "execution_count": 35,
     "metadata": {},
     "output_type": "execute_result"
    }
   ],
   "source": [
    "\n",
    "# Calculate differences\n",
    "grouped_reset['differences'] = grouped_reset['TRIP_EDGE'].diff()\n",
    "\n",
    "# Set a threshold for detecting breaks\n",
    "threshold = 1\n",
    "grouped_reset['periodicity_break'] = abs(grouped_reset['differences']) != threshold\n",
    "grouped_reset"
   ]
  },
  {
   "cell_type": "code",
   "execution_count": 36,
   "metadata": {},
   "outputs": [],
   "source": [
    "grouped_reset = grouped_reset[(grouped_reset['periodicity_break']==False) | (grouped_reset['differences'].isna())]"
   ]
  },
  {
   "cell_type": "code",
   "execution_count": 37,
   "metadata": {},
   "outputs": [
    {
     "data": {
      "text/plain": [
       "<pandas.core.groupby.generic.SeriesGroupBy object at 0x7f2f30ae3490>"
      ]
     },
     "execution_count": 37,
     "metadata": {},
     "output_type": "execute_result"
    }
   ],
   "source": [
    "grouped_reset.groupby('trip_date')['TRIP_EDGE']"
   ]
  },
  {
   "cell_type": "code",
   "execution_count": 38,
   "metadata": {},
   "outputs": [
    {
     "data": {
      "text/plain": [
       "TRIP_EDGE\n",
       "1    67351\n",
       "2    67351\n",
       "Name: count, dtype: int64"
      ]
     },
     "execution_count": 38,
     "metadata": {},
     "output_type": "execute_result"
    }
   ],
   "source": [
    "grouped_reset['TRIP_EDGE'].value_counts()"
   ]
  },
  {
   "cell_type": "code",
   "execution_count": 39,
   "metadata": {},
   "outputs": [
    {
     "data": {
      "text/plain": [
       "Text(0, 0.5, 'Adherence for the end of the trip')"
      ]
     },
     "execution_count": 39,
     "metadata": {},
     "output_type": "execute_result"
    },
    {
     "data": {
      "image/png": "[encoded data removed]",
      "text/plain": [
       "<Figure size 640x480 with 1 Axes>"
      ]
     },
     "metadata": {},
     "output_type": "display_data"
    }
   ],
   "source": [
    "plt.plot(grouped_reset[grouped_reset['TRIP_EDGE']==1]['ADHERENCE']\n",
    "         ,grouped_reset[grouped_reset['TRIP_EDGE']==2]['ADHERENCE'],'o')\n",
    "plt.xlabel('Adherence for start of the trip')\n",
    "plt.ylabel('Adherence for the end of the trip')"
   ]
  },
  {
   "cell_type": "markdown",
   "metadata": {},
   "source": [
    "### some notes\n",
    "- Actual Arrival time   32724\n",
    "- Actual Departure time 32720\n",
    "- Adherence             32720\n",
    "- Scheduled Headway     32835\n",
    "- Actual headway        31831\n",
    "- Headway deviation     31773\n",
    "- Dwell time            32720"
   ]
  },
  {
   "cell_type": "markdown",
   "metadata": {},
   "source": [
    "Question : 5"
   ]
  },
  {
   "cell_type": "markdown",
   "metadata": {},
   "source": [
    "5. How much of a factor does the driver have on headway and on-time performance? The driver is indicated by the OPERATOR variable."
   ]
  },
  {
   "cell_type": "markdown",
   "metadata": {},
   "source": [
    "Ideas:\n",
    "    Headway : Measured with headway_deviation\n",
    "    on-time preformance : Measured with adherence !"
   ]
  },
  {
   "cell_type": "markdown",
   "metadata": {},
   "source": [
    "Drivers !!"
   ]
  },
  {
   "cell_type": "code",
   "execution_count": 40,
   "metadata": {},
   "outputs": [
    {
     "data": {
      "text/plain": [
       "341"
      ]
     },
     "execution_count": 40,
     "metadata": {},
     "output_type": "execute_result"
    }
   ],
   "source": [
    "bus['OPERATOR'].nunique()"
   ]
  },
  {
   "cell_type": "code",
   "execution_count": 41,
   "metadata": {},
   "outputs": [
    {
     "data": {
      "text/plain": [
       "Index(['CALENDAR_ID', 'SERVICE_ABBR', 'ADHERENCE_ID', 'DATE', 'ROUTE_ABBR',\n",
       "       'BLOCK_ABBR', 'OPERATOR', 'TRIP_ID', 'OVERLOAD_ID',\n",
       "       'ROUTE_DIRECTION_NAME', 'TIME_POINT_ABBR', 'ROUTE_STOP_SEQUENCE',\n",
       "       'TRIP_EDGE', 'LATITUDE', 'LONGITUDE', 'SCHEDULED_TIME',\n",
       "       'ACTUAL_ARRIVAL_TIME', 'ACTUAL_DEPARTURE_TIME', 'ADHERENCE',\n",
       "       'SCHEDULED_HDWY', 'ACTUAL_HDWY', 'HDWY_DEV', 'ADJUSTED_EARLY_COUNT',\n",
       "       'ADJUSTED_LATE_COUNT', 'ADJUSTED_ONTIME_COUNT', 'STOP_CANCELLED',\n",
       "       'PREV_SCHED_STOP_CANCELLED', 'IS_RELIEF', 'BLOCK_STOP_ORDER',\n",
       "       'DWELL_IN_MINS', 'trip_date'],\n",
       "      dtype='object')"
      ]
     },
     "execution_count": 41,
     "metadata": {},
     "output_type": "execute_result"
    }
   ],
   "source": [
    "bus.columns"
   ]
  },
  {
   "cell_type": "code",
   "execution_count": 82,
   "metadata": {},
   "outputs": [
    {
     "data": {
      "text/plain": [
       "OPERATOR\n",
       "0         1\n",
       "473       1\n",
       "656       1\n",
       "56        2\n",
       "3077      2\n",
       "       ... \n",
       "2352    548\n",
       "379     553\n",
       "2164    574\n",
       "1761    738\n",
       "1762    803\n",
       "Name: trip_date, Length: 341, dtype: int64"
      ]
     },
     "execution_count": 82,
     "metadata": {},
     "output_type": "execute_result"
    }
   ],
   "source": [
    "bus.groupby('OPERATOR')['trip_date'].nunique().sort_values()"
   ]
  },
  {
   "cell_type": "code",
   "execution_count": 68,
   "metadata": {},
   "outputs": [],
   "source": [
    "grouped_by_operator = bus.groupby('OPERATOR')['trip_date'].nunique().reset_index()"
   ]
  },
  {
   "cell_type": "code",
   "execution_count": 88,
   "metadata": {},
   "outputs": [],
   "source": [
    "result = grouped_by_operator[grouped_by_operator['trip_date']>500]"
   ]
  },
  {
   "cell_type": "code",
   "execution_count": 92,
   "metadata": {},
   "outputs": [],
   "source": [
    "operators_of_interest = result['OPERATOR'].tolist()"
   ]
  },
  {
   "cell_type": "code",
   "execution_count": 96,
   "metadata": {},
   "outputs": [],
   "source": [
    "bus_subset = bus[bus['OPERATOR'].isin (operators_of_interest)]"
   ]
  },
  {
   "cell_type": "code",
   "execution_count": 97,
   "metadata": {},
   "outputs": [
    {
     "data": {
      "text/html": [
       "<div>\n",
       "<style scoped>\n",
       "    .dataframe tbody tr th:only-of-type {\n",
       "        vertical-align: middle;\n",
       "    }\n",
       "\n",
       "    .dataframe tbody tr th {\n",
       "        vertical-align: top;\n",
       "    }\n",
       "\n",
       "    .dataframe thead th {\n",
       "        text-align: right;\n",
       "    }\n",
       "</style>\n",
       "<table border=\"1\" class=\"dataframe\">\n",
       "  <thead>\n",
       "    <tr style=\"text-align: right;\">\n",
       "      <th></th>\n",
       "      <th>CALENDAR_ID</th>\n",
       "      <th>SERVICE_ABBR</th>\n",
       "      <th>ADHERENCE_ID</th>\n",
       "      <th>DATE</th>\n",
       "      <th>ROUTE_ABBR</th>\n",
       "      <th>BLOCK_ABBR</th>\n",
       "      <th>OPERATOR</th>\n",
       "      <th>TRIP_ID</th>\n",
       "      <th>OVERLOAD_ID</th>\n",
       "      <th>ROUTE_DIRECTION_NAME</th>\n",
       "      <th>...</th>\n",
       "      <th>HDWY_DEV</th>\n",
       "      <th>ADJUSTED_EARLY_COUNT</th>\n",
       "      <th>ADJUSTED_LATE_COUNT</th>\n",
       "      <th>ADJUSTED_ONTIME_COUNT</th>\n",
       "      <th>STOP_CANCELLED</th>\n",
       "      <th>PREV_SCHED_STOP_CANCELLED</th>\n",
       "      <th>IS_RELIEF</th>\n",
       "      <th>BLOCK_STOP_ORDER</th>\n",
       "      <th>DWELL_IN_MINS</th>\n",
       "      <th>trip_date</th>\n",
       "    </tr>\n",
       "  </thead>\n",
       "  <tbody>\n",
       "    <tr>\n",
       "      <th>0</th>\n",
       "      <td>120230801</td>\n",
       "      <td>1</td>\n",
       "      <td>99457890</td>\n",
       "      <td>2023-08-01</td>\n",
       "      <td>22</td>\n",
       "      <td>2200</td>\n",
       "      <td>1040</td>\n",
       "      <td>345104</td>\n",
       "      <td>0</td>\n",
       "      <td>TO DOWNTOWN</td>\n",
       "      <td>...</td>\n",
       "      <td>NaN</td>\n",
       "      <td>0</td>\n",
       "      <td>0</td>\n",
       "      <td>1</td>\n",
       "      <td>0</td>\n",
       "      <td>0.0</td>\n",
       "      <td>0</td>\n",
       "      <td>2</td>\n",
       "      <td>6.500000</td>\n",
       "      <td>345104120230801</td>\n",
       "    </tr>\n",
       "    <tr>\n",
       "      <th>1</th>\n",
       "      <td>120230801</td>\n",
       "      <td>1</td>\n",
       "      <td>99457891</td>\n",
       "      <td>2023-08-01</td>\n",
       "      <td>22</td>\n",
       "      <td>2200</td>\n",
       "      <td>1040</td>\n",
       "      <td>345104</td>\n",
       "      <td>0</td>\n",
       "      <td>TO DOWNTOWN</td>\n",
       "      <td>...</td>\n",
       "      <td>NaN</td>\n",
       "      <td>0</td>\n",
       "      <td>0</td>\n",
       "      <td>1</td>\n",
       "      <td>0</td>\n",
       "      <td>0.0</td>\n",
       "      <td>0</td>\n",
       "      <td>9</td>\n",
       "      <td>0.000000</td>\n",
       "      <td>345104120230801</td>\n",
       "    </tr>\n",
       "    <tr>\n",
       "      <th>2</th>\n",
       "      <td>120230801</td>\n",
       "      <td>1</td>\n",
       "      <td>99457892</td>\n",
       "      <td>2023-08-01</td>\n",
       "      <td>22</td>\n",
       "      <td>2200</td>\n",
       "      <td>1040</td>\n",
       "      <td>345104</td>\n",
       "      <td>0</td>\n",
       "      <td>TO DOWNTOWN</td>\n",
       "      <td>...</td>\n",
       "      <td>NaN</td>\n",
       "      <td>0</td>\n",
       "      <td>0</td>\n",
       "      <td>1</td>\n",
       "      <td>0</td>\n",
       "      <td>0.0</td>\n",
       "      <td>0</td>\n",
       "      <td>19</td>\n",
       "      <td>0.000000</td>\n",
       "      <td>345104120230801</td>\n",
       "    </tr>\n",
       "    <tr>\n",
       "      <th>3</th>\n",
       "      <td>120230801</td>\n",
       "      <td>1</td>\n",
       "      <td>99457893</td>\n",
       "      <td>2023-08-01</td>\n",
       "      <td>22</td>\n",
       "      <td>2200</td>\n",
       "      <td>1040</td>\n",
       "      <td>345104</td>\n",
       "      <td>0</td>\n",
       "      <td>TO DOWNTOWN</td>\n",
       "      <td>...</td>\n",
       "      <td>NaN</td>\n",
       "      <td>0</td>\n",
       "      <td>0</td>\n",
       "      <td>1</td>\n",
       "      <td>0</td>\n",
       "      <td>NaN</td>\n",
       "      <td>0</td>\n",
       "      <td>35</td>\n",
       "      <td>0.000000</td>\n",
       "      <td>345104120230801</td>\n",
       "    </tr>\n",
       "    <tr>\n",
       "      <th>4</th>\n",
       "      <td>120230801</td>\n",
       "      <td>1</td>\n",
       "      <td>99457894</td>\n",
       "      <td>2023-08-01</td>\n",
       "      <td>22</td>\n",
       "      <td>2200</td>\n",
       "      <td>1040</td>\n",
       "      <td>345105</td>\n",
       "      <td>0</td>\n",
       "      <td>FROM DOWNTOWN</td>\n",
       "      <td>...</td>\n",
       "      <td>NaN</td>\n",
       "      <td>0</td>\n",
       "      <td>0</td>\n",
       "      <td>1</td>\n",
       "      <td>0</td>\n",
       "      <td>0.0</td>\n",
       "      <td>0</td>\n",
       "      <td>36</td>\n",
       "      <td>12.866666</td>\n",
       "      <td>345105120230801</td>\n",
       "    </tr>\n",
       "    <tr>\n",
       "      <th>...</th>\n",
       "      <td>...</td>\n",
       "      <td>...</td>\n",
       "      <td>...</td>\n",
       "      <td>...</td>\n",
       "      <td>...</td>\n",
       "      <td>...</td>\n",
       "      <td>...</td>\n",
       "      <td>...</td>\n",
       "      <td>...</td>\n",
       "      <td>...</td>\n",
       "      <td>...</td>\n",
       "      <td>...</td>\n",
       "      <td>...</td>\n",
       "      <td>...</td>\n",
       "      <td>...</td>\n",
       "      <td>...</td>\n",
       "      <td>...</td>\n",
       "      <td>...</td>\n",
       "      <td>...</td>\n",
       "      <td>...</td>\n",
       "      <td>...</td>\n",
       "    </tr>\n",
       "    <tr>\n",
       "      <th>348268</th>\n",
       "      <td>120230930</td>\n",
       "      <td>2</td>\n",
       "      <td>100404311</td>\n",
       "      <td>2023-09-30</td>\n",
       "      <td>52</td>\n",
       "      <td>5201</td>\n",
       "      <td>2352</td>\n",
       "      <td>352036</td>\n",
       "      <td>0</td>\n",
       "      <td>FROM DOWNTOWN</td>\n",
       "      <td>...</td>\n",
       "      <td>NaN</td>\n",
       "      <td>0</td>\n",
       "      <td>0</td>\n",
       "      <td>0</td>\n",
       "      <td>0</td>\n",
       "      <td>0.0</td>\n",
       "      <td>0</td>\n",
       "      <td>741</td>\n",
       "      <td>NaN</td>\n",
       "      <td>352036120230930</td>\n",
       "    </tr>\n",
       "    <tr>\n",
       "      <th>348269</th>\n",
       "      <td>120230930</td>\n",
       "      <td>2</td>\n",
       "      <td>100404312</td>\n",
       "      <td>2023-09-30</td>\n",
       "      <td>52</td>\n",
       "      <td>5201</td>\n",
       "      <td>2352</td>\n",
       "      <td>352036</td>\n",
       "      <td>0</td>\n",
       "      <td>FROM DOWNTOWN</td>\n",
       "      <td>...</td>\n",
       "      <td>NaN</td>\n",
       "      <td>0</td>\n",
       "      <td>0</td>\n",
       "      <td>0</td>\n",
       "      <td>0</td>\n",
       "      <td>0.0</td>\n",
       "      <td>0</td>\n",
       "      <td>748</td>\n",
       "      <td>NaN</td>\n",
       "      <td>352036120230930</td>\n",
       "    </tr>\n",
       "    <tr>\n",
       "      <th>348270</th>\n",
       "      <td>120230930</td>\n",
       "      <td>2</td>\n",
       "      <td>100404313</td>\n",
       "      <td>2023-09-30</td>\n",
       "      <td>52</td>\n",
       "      <td>5201</td>\n",
       "      <td>2352</td>\n",
       "      <td>352036</td>\n",
       "      <td>0</td>\n",
       "      <td>FROM DOWNTOWN</td>\n",
       "      <td>...</td>\n",
       "      <td>NaN</td>\n",
       "      <td>0</td>\n",
       "      <td>0</td>\n",
       "      <td>0</td>\n",
       "      <td>0</td>\n",
       "      <td>0.0</td>\n",
       "      <td>0</td>\n",
       "      <td>761</td>\n",
       "      <td>NaN</td>\n",
       "      <td>352036120230930</td>\n",
       "    </tr>\n",
       "    <tr>\n",
       "      <th>348271</th>\n",
       "      <td>120230930</td>\n",
       "      <td>2</td>\n",
       "      <td>100404314</td>\n",
       "      <td>2023-09-30</td>\n",
       "      <td>52</td>\n",
       "      <td>5201</td>\n",
       "      <td>2352</td>\n",
       "      <td>352036</td>\n",
       "      <td>0</td>\n",
       "      <td>FROM DOWNTOWN</td>\n",
       "      <td>...</td>\n",
       "      <td>NaN</td>\n",
       "      <td>0</td>\n",
       "      <td>0</td>\n",
       "      <td>0</td>\n",
       "      <td>0</td>\n",
       "      <td>0.0</td>\n",
       "      <td>0</td>\n",
       "      <td>786</td>\n",
       "      <td>NaN</td>\n",
       "      <td>352036120230930</td>\n",
       "    </tr>\n",
       "    <tr>\n",
       "      <th>348272</th>\n",
       "      <td>120230930</td>\n",
       "      <td>2</td>\n",
       "      <td>100404315</td>\n",
       "      <td>2023-09-30</td>\n",
       "      <td>52</td>\n",
       "      <td>5201</td>\n",
       "      <td>2352</td>\n",
       "      <td>352036</td>\n",
       "      <td>0</td>\n",
       "      <td>FROM DOWNTOWN</td>\n",
       "      <td>...</td>\n",
       "      <td>NaN</td>\n",
       "      <td>0</td>\n",
       "      <td>0</td>\n",
       "      <td>0</td>\n",
       "      <td>0</td>\n",
       "      <td>NaN</td>\n",
       "      <td>0</td>\n",
       "      <td>791</td>\n",
       "      <td>NaN</td>\n",
       "      <td>352036120230930</td>\n",
       "    </tr>\n",
       "  </tbody>\n",
       "</table>\n",
       "<p>22499 rows × 31 columns</p>\n",
       "</div>"
      ],
      "text/plain": [
       "        CALENDAR_ID  SERVICE_ABBR  ADHERENCE_ID       DATE  ROUTE_ABBR  \\\n",
       "0         120230801             1      99457890 2023-08-01          22   \n",
       "1         120230801             1      99457891 2023-08-01          22   \n",
       "2         120230801             1      99457892 2023-08-01          22   \n",
       "3         120230801             1      99457893 2023-08-01          22   \n",
       "4         120230801             1      99457894 2023-08-01          22   \n",
       "...             ...           ...           ...        ...         ...   \n",
       "348268    120230930             2     100404311 2023-09-30          52   \n",
       "348269    120230930             2     100404312 2023-09-30          52   \n",
       "348270    120230930             2     100404313 2023-09-30          52   \n",
       "348271    120230930             2     100404314 2023-09-30          52   \n",
       "348272    120230930             2     100404315 2023-09-30          52   \n",
       "\n",
       "        BLOCK_ABBR  OPERATOR  TRIP_ID  OVERLOAD_ID ROUTE_DIRECTION_NAME  ...  \\\n",
       "0             2200      1040   345104            0          TO DOWNTOWN  ...   \n",
       "1             2200      1040   345104            0          TO DOWNTOWN  ...   \n",
       "2             2200      1040   345104            0          TO DOWNTOWN  ...   \n",
       "3             2200      1040   345104            0          TO DOWNTOWN  ...   \n",
       "4             2200      1040   345105            0        FROM DOWNTOWN  ...   \n",
       "...            ...       ...      ...          ...                  ...  ...   \n",
       "348268        5201      2352   352036            0        FROM DOWNTOWN  ...   \n",
       "348269        5201      2352   352036            0        FROM DOWNTOWN  ...   \n",
       "348270        5201      2352   352036            0        FROM DOWNTOWN  ...   \n",
       "348271        5201      2352   352036            0        FROM DOWNTOWN  ...   \n",
       "348272        5201      2352   352036            0        FROM DOWNTOWN  ...   \n",
       "\n",
       "       HDWY_DEV  ADJUSTED_EARLY_COUNT  ADJUSTED_LATE_COUNT  \\\n",
       "0           NaN                     0                    0   \n",
       "1           NaN                     0                    0   \n",
       "2           NaN                     0                    0   \n",
       "3           NaN                     0                    0   \n",
       "4           NaN                     0                    0   \n",
       "...         ...                   ...                  ...   \n",
       "348268      NaN                     0                    0   \n",
       "348269      NaN                     0                    0   \n",
       "348270      NaN                     0                    0   \n",
       "348271      NaN                     0                    0   \n",
       "348272      NaN                     0                    0   \n",
       "\n",
       "        ADJUSTED_ONTIME_COUNT  STOP_CANCELLED PREV_SCHED_STOP_CANCELLED  \\\n",
       "0                           1               0                       0.0   \n",
       "1                           1               0                       0.0   \n",
       "2                           1               0                       0.0   \n",
       "3                           1               0                       NaN   \n",
       "4                           1               0                       0.0   \n",
       "...                       ...             ...                       ...   \n",
       "348268                      0               0                       0.0   \n",
       "348269                      0               0                       0.0   \n",
       "348270                      0               0                       0.0   \n",
       "348271                      0               0                       0.0   \n",
       "348272                      0               0                       NaN   \n",
       "\n",
       "       IS_RELIEF BLOCK_STOP_ORDER  DWELL_IN_MINS        trip_date  \n",
       "0              0                2       6.500000  345104120230801  \n",
       "1              0                9       0.000000  345104120230801  \n",
       "2              0               19       0.000000  345104120230801  \n",
       "3              0               35       0.000000  345104120230801  \n",
       "4              0               36      12.866666  345105120230801  \n",
       "...          ...              ...            ...              ...  \n",
       "348268         0              741            NaN  352036120230930  \n",
       "348269         0              748            NaN  352036120230930  \n",
       "348270         0              761            NaN  352036120230930  \n",
       "348271         0              786            NaN  352036120230930  \n",
       "348272         0              791            NaN  352036120230930  \n",
       "\n",
       "[22499 rows x 31 columns]"
      ]
     },
     "execution_count": 97,
     "metadata": {},
     "output_type": "execute_result"
    }
   ],
   "source": [
    "bus_subset"
   ]
  },
  {
   "cell_type": "code",
   "execution_count": 120,
   "metadata": {},
   "outputs": [
    {
     "name": "stderr",
     "output_type": "stream",
     "text": [
      "/home/prahlad/anaconda3/lib/python3.11/site-packages/seaborn/axisgrid.py:118: UserWarning: The figure layout has changed to tight\n",
      "  self._figure.tight_layout(*args, **kwargs)\n"
     ]
    },
    {
     "data": {
      "image/png": "[encoded data removed]",
      "text/plain": [
       "<Figure size 615.972x5000 with 10 Axes>"
      ]
     },
     "metadata": {},
     "output_type": "display_data"
    }
   ],
   "source": [
    "g = sns.relplot(data = bus_subset[bus_subset['SERVICE_ABBR']==1], x = 'HDWY_DEV', y = 'ADHERENCE', hue = 'ROUTE_ABBR', row = 'OPERATOR', size = 'TRIP_EDGE')\n",
    "# g.set(ylim=(-50, 50))"
   ]
  },
  {
   "cell_type": "code",
   "execution_count": null,
   "metadata": {},
   "outputs": [],
   "source": [
    "import plotly.express as px\n",
    "g = sns.relplot(data = bus_subset[bus_subset['SERVICE_ABBR']==1], x = 'HDWY_DEV', y = 'ADHERENCE', hue = 'ROUTE_ABBR', row = 'OPERATOR', size = 'TRIP_EDGE')"
   ]
  },
  {
   "cell_type": "code",
   "execution_count": 98,
   "metadata": {},
   "outputs": [
    {
     "data": {
      "text/html": [
       "<div>\n",
       "<style scoped>\n",
       "    .dataframe tbody tr th:only-of-type {\n",
       "        vertical-align: middle;\n",
       "    }\n",
       "\n",
       "    .dataframe tbody tr th {\n",
       "        vertical-align: top;\n",
       "    }\n",
       "\n",
       "    .dataframe thead tr th {\n",
       "        text-align: left;\n",
       "    }\n",
       "\n",
       "    .dataframe thead tr:last-of-type th {\n",
       "        text-align: right;\n",
       "    }\n",
       "</style>\n",
       "<table border=\"1\" class=\"dataframe\">\n",
       "  <thead>\n",
       "    <tr>\n",
       "      <th></th>\n",
       "      <th></th>\n",
       "      <th></th>\n",
       "      <th colspan=\"3\" halign=\"left\">ADHERENCE</th>\n",
       "      <th colspan=\"2\" halign=\"left\">HDWY_DEV</th>\n",
       "    </tr>\n",
       "    <tr>\n",
       "      <th></th>\n",
       "      <th></th>\n",
       "      <th>TRIP_EDGE</th>\n",
       "      <th>0</th>\n",
       "      <th>1</th>\n",
       "      <th>2</th>\n",
       "      <th>0</th>\n",
       "      <th>1</th>\n",
       "    </tr>\n",
       "    <tr>\n",
       "      <th>ROUTE_ABBR</th>\n",
       "      <th>SERVICE_ABBR</th>\n",
       "      <th>OPERATOR</th>\n",
       "      <th></th>\n",
       "      <th></th>\n",
       "      <th></th>\n",
       "      <th></th>\n",
       "      <th></th>\n",
       "    </tr>\n",
       "  </thead>\n",
       "  <tbody>\n",
       "    <tr>\n",
       "      <th rowspan=\"3\" valign=\"top\">3</th>\n",
       "      <th>1</th>\n",
       "      <th>2164</th>\n",
       "      <td>-2.736111</td>\n",
       "      <td>-3.079166</td>\n",
       "      <td>-3.250000</td>\n",
       "      <td>1.456944</td>\n",
       "      <td>1.504166</td>\n",
       "    </tr>\n",
       "    <tr>\n",
       "      <th rowspan=\"2\" valign=\"top\">3</th>\n",
       "      <th>1823</th>\n",
       "      <td>-3.823129</td>\n",
       "      <td>-5.271428</td>\n",
       "      <td>-0.119728</td>\n",
       "      <td>3.534864</td>\n",
       "      <td>3.810544</td>\n",
       "    </tr>\n",
       "    <tr>\n",
       "      <th>2352</th>\n",
       "      <td>-1.167433</td>\n",
       "      <td>-2.133760</td>\n",
       "      <td>-4.061681</td>\n",
       "      <td>-1.106562</td>\n",
       "      <td>-0.391026</td>\n",
       "    </tr>\n",
       "    <tr>\n",
       "      <th rowspan=\"2\" valign=\"top\">7</th>\n",
       "      <th>1</th>\n",
       "      <th>2164</th>\n",
       "      <td>-4.527189</td>\n",
       "      <td>-2.874023</td>\n",
       "      <td>-4.156809</td>\n",
       "      <td>0.558496</td>\n",
       "      <td>0.693099</td>\n",
       "    </tr>\n",
       "    <tr>\n",
       "      <th>2</th>\n",
       "      <th>2164</th>\n",
       "      <td>-5.600000</td>\n",
       "      <td>-3.838746</td>\n",
       "      <td>-4.388095</td>\n",
       "      <td>0.865669</td>\n",
       "      <td>-0.579487</td>\n",
       "    </tr>\n",
       "  </tbody>\n",
       "</table>\n",
       "</div>"
      ],
      "text/plain": [
       "                                 ADHERENCE                      HDWY_DEV  \\\n",
       "TRIP_EDGE                                0         1         2         0   \n",
       "ROUTE_ABBR SERVICE_ABBR OPERATOR                                           \n",
       "3          1            2164     -2.736111 -3.079166 -3.250000  1.456944   \n",
       "           3            1823     -3.823129 -5.271428 -0.119728  3.534864   \n",
       "                        2352     -1.167433 -2.133760 -4.061681 -1.106562   \n",
       "7          1            2164     -4.527189 -2.874023 -4.156809  0.558496   \n",
       "           2            2164     -5.600000 -3.838746 -4.388095  0.865669   \n",
       "\n",
       "                                            \n",
       "TRIP_EDGE                                1  \n",
       "ROUTE_ABBR SERVICE_ABBR OPERATOR            \n",
       "3          1            2164      1.504166  \n",
       "           3            1823      3.810544  \n",
       "                        2352     -0.391026  \n",
       "7          1            2164      0.693099  \n",
       "           2            2164     -0.579487  "
      ]
     },
     "execution_count": 98,
     "metadata": {},
     "output_type": "execute_result"
    }
   ],
   "source": [
    "# Create a pivot table with multiple index and multiple columns\n",
    "bus_pivot_table = pd.pivot_table(bus_subset, values=['HDWY_DEV', 'ADHERENCE'], index=['ROUTE_ABBR', 'SERVICE_ABBR', 'OPERATOR'], columns='TRIP_EDGE')\n",
    "bus_pivot_table.head(5)"
   ]
  },
  {
   "cell_type": "code",
   "execution_count": 99,
   "metadata": {},
   "outputs": [
    {
     "data": {
      "text/plain": [
       "MultiIndex([( 3, 1, 2164),\n",
       "            ( 3, 3, 1823),\n",
       "            ( 3, 3, 2352),\n",
       "            ( 7, 1, 2164),\n",
       "            ( 7, 2, 2164),\n",
       "            ( 7, 3, 1617),\n",
       "            ( 7, 3, 2164),\n",
       "            (22, 1, 1040),\n",
       "            (22, 1, 1617),\n",
       "            (22, 1, 1761),\n",
       "            (22, 1, 1762),\n",
       "            (22, 3, 1617),\n",
       "            (23, 1,  379),\n",
       "            (23, 1, 1147),\n",
       "            (23, 1, 1170),\n",
       "            (23, 1, 1823),\n",
       "            (23, 1, 2164),\n",
       "            (23, 1, 2352),\n",
       "            (23, 2,  379),\n",
       "            (23, 3, 1147),\n",
       "            (52, 2, 2352),\n",
       "            (55, 1, 2164),\n",
       "            (55, 3, 2164)],\n",
       "           names=['ROUTE_ABBR', 'SERVICE_ABBR', 'OPERATOR'])"
      ]
     },
     "execution_count": 99,
     "metadata": {},
     "output_type": "execute_result"
    }
   ],
   "source": [
    "bus_pivot_table.index"
   ]
  },
  {
   "cell_type": "code",
   "execution_count": 104,
   "metadata": {},
   "outputs": [
    {
     "data": {
      "text/html": [
       "<div>\n",
       "<style scoped>\n",
       "    .dataframe tbody tr th:only-of-type {\n",
       "        vertical-align: middle;\n",
       "    }\n",
       "\n",
       "    .dataframe tbody tr th {\n",
       "        vertical-align: top;\n",
       "    }\n",
       "\n",
       "    .dataframe thead tr th {\n",
       "        text-align: left;\n",
       "    }\n",
       "\n",
       "    .dataframe thead tr:last-of-type th {\n",
       "        text-align: right;\n",
       "    }\n",
       "</style>\n",
       "<table border=\"1\" class=\"dataframe\">\n",
       "  <thead>\n",
       "    <tr>\n",
       "      <th></th>\n",
       "      <th colspan=\"3\" halign=\"left\">ADHERENCE</th>\n",
       "      <th colspan=\"2\" halign=\"left\">HDWY_DEV</th>\n",
       "    </tr>\n",
       "    <tr>\n",
       "      <th>TRIP_EDGE</th>\n",
       "      <th>0</th>\n",
       "      <th>1</th>\n",
       "      <th>2</th>\n",
       "      <th>0</th>\n",
       "      <th>1</th>\n",
       "    </tr>\n",
       "    <tr>\n",
       "      <th>OPERATOR</th>\n",
       "      <th></th>\n",
       "      <th></th>\n",
       "      <th></th>\n",
       "      <th></th>\n",
       "      <th></th>\n",
       "    </tr>\n",
       "  </thead>\n",
       "  <tbody>\n",
       "    <tr>\n",
       "      <th>1040</th>\n",
       "      <td>-1.381828</td>\n",
       "      <td>-1.178317</td>\n",
       "      <td>2.139794</td>\n",
       "      <td>0.609271</td>\n",
       "      <td>0.221512</td>\n",
       "    </tr>\n",
       "    <tr>\n",
       "      <th>1617</th>\n",
       "      <td>-1.469109</td>\n",
       "      <td>-1.009784</td>\n",
       "      <td>1.865672</td>\n",
       "      <td>0.014338</td>\n",
       "      <td>1.504311</td>\n",
       "    </tr>\n",
       "    <tr>\n",
       "      <th>1761</th>\n",
       "      <td>0.027458</td>\n",
       "      <td>-0.029388</td>\n",
       "      <td>3.851255</td>\n",
       "      <td>-2.381535</td>\n",
       "      <td>-0.896079</td>\n",
       "    </tr>\n",
       "    <tr>\n",
       "      <th>1762</th>\n",
       "      <td>-0.519337</td>\n",
       "      <td>0.128106</td>\n",
       "      <td>3.885961</td>\n",
       "      <td>-2.561478</td>\n",
       "      <td>-1.364910</td>\n",
       "    </tr>\n",
       "  </tbody>\n",
       "</table>\n",
       "</div>"
      ],
      "text/plain": [
       "          ADHERENCE                      HDWY_DEV          \n",
       "TRIP_EDGE         0         1         2         0         1\n",
       "OPERATOR                                                   \n",
       "1040      -1.381828 -1.178317  2.139794  0.609271  0.221512\n",
       "1617      -1.469109 -1.009784  1.865672  0.014338  1.504311\n",
       "1761       0.027458 -0.029388  3.851255 -2.381535 -0.896079\n",
       "1762      -0.519337  0.128106  3.885961 -2.561478 -1.364910"
      ]
     },
     "execution_count": 104,
     "metadata": {},
     "output_type": "execute_result"
    }
   ],
   "source": [
    "bus_pivot_table.loc[(22,1)]"
   ]
  },
  {
   "cell_type": "code",
   "execution_count": null,
   "metadata": {},
   "outputs": [],
   "source": []
  },
  {
   "cell_type": "markdown",
   "metadata": {},
   "source": [
    "_How to slice a multi-index pivot table?_\n",
    "\n",
    "- I want to plot Adherence on a weekday in a route for all the operators\n",
    "\n",
    "- Problem with this is there are too many operators \n",
    "\n",
    "- I also want to choose operators that have more trips to be statistically significant"
   ]
  },
  {
   "cell_type": "code",
   "execution_count": 106,
   "metadata": {},
   "outputs": [
    {
     "data": {
      "text/plain": [
       "OPERATOR  SERVICE_ABBR\n",
       "379       1               1775\n",
       "          2                484\n",
       "1040      1               1770\n",
       "1147      1               2640\n",
       "          3                 46\n",
       "1170      1               2123\n",
       "1617      1               1534\n",
       "          3                272\n",
       "1761      1               2126\n",
       "1762      1               2332\n",
       "1823      1               1796\n",
       "          3                294\n",
       "2164      1               1154\n",
       "          2                353\n",
       "          3                402\n",
       "2352      1               1685\n",
       "          2                338\n",
       "          3                582\n",
       "Name: ADHERENCE, dtype: int64"
      ]
     },
     "execution_count": 106,
     "metadata": {},
     "output_type": "execute_result"
    }
   ],
   "source": [
    "operator_df = bus_subset.groupby(['OPERATOR','SERVICE_ABBR'])['ADHERENCE'].count().sort_index()#.plot(kind='line', rot = 90)\n",
    "operator_df\n",
    "#grouped_reset = bus_start_end.groupby(['trip_date','TRIP_EDGE'])['ADHERENCE'].mean().reset_index()"
   ]
  },
  {
   "cell_type": "code",
   "execution_count": 103,
   "metadata": {},
   "outputs": [
    {
     "name": "stderr",
     "output_type": "stream",
     "text": [
      "/home/prahlad/anaconda3/lib/python3.11/site-packages/seaborn/axisgrid.py:118: UserWarning: The figure layout has changed to tight\n",
      "  self._figure.tight_layout(*args, **kwargs)\n"
     ]
    },
    {
     "ename": "MergeError",
     "evalue": "Not allowed to merge between different levels. (2 levels on the left, 1 on the right)",
     "output_type": "error",
     "traceback": [
      "\u001b[0;31m---------------------------------------------------------------------------\u001b[0m",
      "\u001b[0;31mMergeError\u001b[0m                                Traceback (most recent call last)",
      "\u001b[1;32m/home/prahlad/Dropbox/wego-bone_scrapers_wego/notebooks/tw_01_initial_eda.ipynb Cell 51\u001b[0m line \u001b[0;36m1\n\u001b[0;32m----> <a href='vscode-notebook-cell:/home/prahlad/Dropbox/wego-bone_scrapers_wego/notebooks/tw_01_initial_eda.ipynb#X62sZmlsZQ%3D%3D?line=0'>1</a>\u001b[0m sns\u001b[39m.\u001b[39mrelplot(data \u001b[39m=\u001b[39m bus_pivot_table, x \u001b[39m=\u001b[39m (\u001b[39m'\u001b[39m\u001b[39mADHERENCE\u001b[39m\u001b[39m'\u001b[39m,\u001b[39m0\u001b[39m), y \u001b[39m=\u001b[39m (\u001b[39m'\u001b[39m\u001b[39mHDWY_DEV\u001b[39m\u001b[39m'\u001b[39m,\u001b[39m0\u001b[39m), kind \u001b[39m=\u001b[39m \u001b[39m'\u001b[39m\u001b[39mscatter\u001b[39m\u001b[39m'\u001b[39m, hue \u001b[39m=\u001b[39m \u001b[39m'\u001b[39m\u001b[39mSERVICE_ABBR\u001b[39m\u001b[39m'\u001b[39m)\n",
      "File \u001b[0;32m~/anaconda3/lib/python3.11/site-packages/seaborn/relational.py:982\u001b[0m, in \u001b[0;36mrelplot\u001b[0;34m(data, x, y, hue, size, style, units, row, col, col_wrap, row_order, col_order, palette, hue_order, hue_norm, sizes, size_order, size_norm, markers, dashes, style_order, legend, kind, height, aspect, facet_kws, **kwargs)\u001b[0m\n\u001b[1;32m    980\u001b[0m     \u001b[39mif\u001b[39;00m \u001b[39mnot\u001b[39;00m \u001b[39misinstance\u001b[39m(data, pd\u001b[39m.\u001b[39mDataFrame):\n\u001b[1;32m    981\u001b[0m         data \u001b[39m=\u001b[39m pd\u001b[39m.\u001b[39mDataFrame(data)\n\u001b[0;32m--> 982\u001b[0m     g\u001b[39m.\u001b[39mdata \u001b[39m=\u001b[39m pd\u001b[39m.\u001b[39mmerge(\n\u001b[1;32m    983\u001b[0m         data,\n\u001b[1;32m    984\u001b[0m         grid_data[grid_data\u001b[39m.\u001b[39mcolumns\u001b[39m.\u001b[39mdifference(data\u001b[39m.\u001b[39mcolumns)],\n\u001b[1;32m    985\u001b[0m         left_index\u001b[39m=\u001b[39m\u001b[39mTrue\u001b[39;00m,\n\u001b[1;32m    986\u001b[0m         right_index\u001b[39m=\u001b[39m\u001b[39mTrue\u001b[39;00m,\n\u001b[1;32m    987\u001b[0m     )\n\u001b[1;32m    988\u001b[0m \u001b[39melse\u001b[39;00m:\n\u001b[1;32m    989\u001b[0m     g\u001b[39m.\u001b[39mdata \u001b[39m=\u001b[39m grid_data\n",
      "File \u001b[0;32m~/anaconda3/lib/python3.11/site-packages/pandas/core/reshape/merge.py:148\u001b[0m, in \u001b[0;36mmerge\u001b[0;34m(left, right, how, on, left_on, right_on, left_index, right_index, sort, suffixes, copy, indicator, validate)\u001b[0m\n\u001b[1;32m    131\u001b[0m \u001b[39m@Substitution\u001b[39m(\u001b[39m\"\u001b[39m\u001b[39m\\n\u001b[39;00m\u001b[39mleft : DataFrame or named Series\u001b[39m\u001b[39m\"\u001b[39m)\n\u001b[1;32m    132\u001b[0m \u001b[39m@Appender\u001b[39m(_merge_doc, indents\u001b[39m=\u001b[39m\u001b[39m0\u001b[39m)\n\u001b[1;32m    133\u001b[0m \u001b[39mdef\u001b[39;00m \u001b[39mmerge\u001b[39m(\n\u001b[0;32m   (...)\u001b[0m\n\u001b[1;32m    146\u001b[0m     validate: \u001b[39mstr\u001b[39m \u001b[39m|\u001b[39m \u001b[39mNone\u001b[39;00m \u001b[39m=\u001b[39m \u001b[39mNone\u001b[39;00m,\n\u001b[1;32m    147\u001b[0m ) \u001b[39m-\u001b[39m\u001b[39m>\u001b[39m DataFrame:\n\u001b[0;32m--> 148\u001b[0m     op \u001b[39m=\u001b[39m _MergeOperation(\n\u001b[1;32m    149\u001b[0m         left,\n\u001b[1;32m    150\u001b[0m         right,\n\u001b[1;32m    151\u001b[0m         how\u001b[39m=\u001b[39mhow,\n\u001b[1;32m    152\u001b[0m         on\u001b[39m=\u001b[39mon,\n\u001b[1;32m    153\u001b[0m         left_on\u001b[39m=\u001b[39mleft_on,\n\u001b[1;32m    154\u001b[0m         right_on\u001b[39m=\u001b[39mright_on,\n\u001b[1;32m    155\u001b[0m         left_index\u001b[39m=\u001b[39mleft_index,\n\u001b[1;32m    156\u001b[0m         right_index\u001b[39m=\u001b[39mright_index,\n\u001b[1;32m    157\u001b[0m         sort\u001b[39m=\u001b[39msort,\n\u001b[1;32m    158\u001b[0m         suffixes\u001b[39m=\u001b[39msuffixes,\n\u001b[1;32m    159\u001b[0m         indicator\u001b[39m=\u001b[39mindicator,\n\u001b[1;32m    160\u001b[0m         validate\u001b[39m=\u001b[39mvalidate,\n\u001b[1;32m    161\u001b[0m     )\n\u001b[1;32m    162\u001b[0m     \u001b[39mreturn\u001b[39;00m op\u001b[39m.\u001b[39mget_result(copy\u001b[39m=\u001b[39mcopy)\n",
      "File \u001b[0;32m~/anaconda3/lib/python3.11/site-packages/pandas/core/reshape/merge.py:717\u001b[0m, in \u001b[0;36m_MergeOperation.__init__\u001b[0;34m(self, left, right, how, on, left_on, right_on, axis, left_index, right_index, sort, suffixes, indicator, validate)\u001b[0m\n\u001b[1;32m    711\u001b[0m \u001b[39mif\u001b[39;00m _left\u001b[39m.\u001b[39mcolumns\u001b[39m.\u001b[39mnlevels \u001b[39m!=\u001b[39m _right\u001b[39m.\u001b[39mcolumns\u001b[39m.\u001b[39mnlevels:\n\u001b[1;32m    712\u001b[0m     msg \u001b[39m=\u001b[39m (\n\u001b[1;32m    713\u001b[0m         \u001b[39m\"\u001b[39m\u001b[39mNot allowed to merge between different levels. \u001b[39m\u001b[39m\"\u001b[39m\n\u001b[1;32m    714\u001b[0m         \u001b[39mf\u001b[39m\u001b[39m\"\u001b[39m\u001b[39m(\u001b[39m\u001b[39m{\u001b[39;00m_left\u001b[39m.\u001b[39mcolumns\u001b[39m.\u001b[39mnlevels\u001b[39m}\u001b[39;00m\u001b[39m levels on the left, \u001b[39m\u001b[39m\"\u001b[39m\n\u001b[1;32m    715\u001b[0m         \u001b[39mf\u001b[39m\u001b[39m\"\u001b[39m\u001b[39m{\u001b[39;00m_right\u001b[39m.\u001b[39mcolumns\u001b[39m.\u001b[39mnlevels\u001b[39m}\u001b[39;00m\u001b[39m on the right)\u001b[39m\u001b[39m\"\u001b[39m\n\u001b[1;32m    716\u001b[0m     )\n\u001b[0;32m--> 717\u001b[0m     \u001b[39mraise\u001b[39;00m MergeError(msg)\n\u001b[1;32m    719\u001b[0m \u001b[39mself\u001b[39m\u001b[39m.\u001b[39mleft_on, \u001b[39mself\u001b[39m\u001b[39m.\u001b[39mright_on \u001b[39m=\u001b[39m \u001b[39mself\u001b[39m\u001b[39m.\u001b[39m_validate_left_right_on(left_on, right_on)\n\u001b[1;32m    721\u001b[0m cross_col \u001b[39m=\u001b[39m \u001b[39mNone\u001b[39;00m\n",
      "\u001b[0;31mMergeError\u001b[0m: Not allowed to merge between different levels. (2 levels on the left, 1 on the right)"
     ]
    },
    {
     "data": {
      "image/png": "[encoded data removed]",
      "text/plain": [
       "<Figure size 615.111x500 with 1 Axes>"
      ]
     },
     "metadata": {},
     "output_type": "display_data"
    }
   ],
   "source": [
    "sns.relplot(data = bus_pivot_table, x = ('ADHERENCE',0), y = ('HDWY_DEV',0), kind = 'scatter', hue = 'SERVICE_ABBR')"
   ]
  },
  {
   "cell_type": "code",
   "execution_count": 122,
   "metadata": {},
   "outputs": [
    {
     "data": {
      "text/plain": [
       "350328"
      ]
     },
     "execution_count": 122,
     "metadata": {},
     "output_type": "execute_result"
    }
   ],
   "source": [
    "bus['ADHERENCE_ID'].nunique()"
   ]
  },
  {
   "cell_type": "code",
   "execution_count": 127,
   "metadata": {},
   "outputs": [
    {
     "data": {
      "text/plain": [
       "(350328, 31)"
      ]
     },
     "execution_count": 127,
     "metadata": {},
     "output_type": "execute_result"
    }
   ],
   "source": [
    "bus.shape"
   ]
  },
  {
   "cell_type": "code",
   "execution_count": 128,
   "metadata": {},
   "outputs": [
    {
     "data": {
      "text/plain": [
       "67370"
      ]
     },
     "execution_count": 128,
     "metadata": {},
     "output_type": "execute_result"
    }
   ],
   "source": [
    "bus['trip_date'].nunique()"
   ]
  },
  {
   "cell_type": "code",
   "execution_count": null,
   "metadata": {},
   "outputs": [],
   "source": []
  },
  {
   "cell_type": "code",
   "execution_count": 129,
   "metadata": {},
   "outputs": [],
   "source": [
    "complete_trips = pd.read_csv('../Data/data_complete_trips.csv')"
   ]
  },
  {
   "cell_type": "code",
   "execution_count": null,
   "metadata": {},
   "outputs": [],
   "source": []
  }
 ],
 "metadata": {
  "kernelspec": {
   "display_name": "base",
   "language": "python",
   "name": "python3"
  },
  "language_info": {
   "codemirror_mode": {
    "name": "ipython",
    "version": 3
   },
   "file_extension": ".py",
   "mimetype": "text/x-python",
   "name": "python",
   "nbconvert_exporter": "python",
   "pygments_lexer": "ipython3",
   "version": "3.9.18"
  },
  "orig_nbformat": 4
 },
 "nbformat": 4,
 "nbformat_minor": 2
}

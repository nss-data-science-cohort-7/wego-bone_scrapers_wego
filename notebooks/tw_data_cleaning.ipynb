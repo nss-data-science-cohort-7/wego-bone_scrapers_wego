{
 "cells": [
  {
   "cell_type": "code",
   "execution_count": 1,
   "metadata": {},
   "outputs": [],
   "source": [
    "import pandas as pd\n",
    "import datetime"
   ]
  },
  {
   "cell_type": "code",
   "execution_count": 26,
   "metadata": {},
   "outputs": [],
   "source": [
    "bus = pd.read_csv('../data_original/headway_data.csv', \n",
    "                  dtype = {}, \n",
    "                  parse_dates = ['DATE']\n",
    "                  )"
   ]
  },
  {
   "cell_type": "code",
   "execution_count": 27,
   "metadata": {},
   "outputs": [
    {
     "name": "stdout",
     "output_type": "stream",
     "text": [
      "<class 'pandas.core.frame.DataFrame'>\n",
      "RangeIndex: 350328 entries, 0 to 350327\n",
      "Data columns (total 30 columns):\n",
      " #   Column                     Non-Null Count   Dtype         \n",
      "---  ------                     --------------   -----         \n",
      " 0   CALENDAR_ID                350328 non-null  int64         \n",
      " 1   SERVICE_ABBR               350328 non-null  int64         \n",
      " 2   ADHERENCE_ID               350328 non-null  int64         \n",
      " 3   DATE                       350328 non-null  datetime64[ns]\n",
      " 4   ROUTE_ABBR                 350328 non-null  int64         \n",
      " 5   BLOCK_ABBR                 350328 non-null  int64         \n",
      " 6   OPERATOR                   350328 non-null  int64         \n",
      " 7   TRIP_ID                    350328 non-null  int64         \n",
      " 8   OVERLOAD_ID                350328 non-null  int64         \n",
      " 9   ROUTE_DIRECTION_NAME       350328 non-null  object        \n",
      " 10  TIME_POINT_ABBR            350328 non-null  object        \n",
      " 11  ROUTE_STOP_SEQUENCE        350317 non-null  float64       \n",
      " 12  TRIP_EDGE                  350328 non-null  int64         \n",
      " 13  LATITUDE                   350328 non-null  float64       \n",
      " 14  LONGITUDE                  350328 non-null  float64       \n",
      " 15  SCHEDULED_TIME             350328 non-null  object        \n",
      " 16  ACTUAL_ARRIVAL_TIME        338869 non-null  object        \n",
      " 17  ACTUAL_DEPARTURE_TIME      338860 non-null  object        \n",
      " 18  ADHERENCE                  338860 non-null  float64       \n",
      " 19  SCHEDULED_HDWY             274737 non-null  float64       \n",
      " 20  ACTUAL_HDWY                266061 non-null  float64       \n",
      " 21  HDWY_DEV                   265892 non-null  float64       \n",
      " 22  ADJUSTED_EARLY_COUNT       350328 non-null  int64         \n",
      " 23  ADJUSTED_LATE_COUNT        350328 non-null  int64         \n",
      " 24  ADJUSTED_ONTIME_COUNT      350328 non-null  int64         \n",
      " 25  STOP_CANCELLED             350328 non-null  int64         \n",
      " 26  PREV_SCHED_STOP_CANCELLED  279999 non-null  float64       \n",
      " 27  IS_RELIEF                  350328 non-null  int64         \n",
      " 28  BLOCK_STOP_ORDER           350328 non-null  int64         \n",
      " 29  DWELL_IN_MINS              338857 non-null  float64       \n",
      "dtypes: datetime64[ns](1), float64(9), int64(15), object(5)\n",
      "memory usage: 80.2+ MB\n"
     ]
    }
   ],
   "source": [
    "bus.info()"
   ]
  },
  {
   "cell_type": "code",
   "execution_count": 28,
   "metadata": {},
   "outputs": [
    {
     "data": {
      "text/html": [
       "<div>\n",
       "<style scoped>\n",
       "    .dataframe tbody tr th:only-of-type {\n",
       "        vertical-align: middle;\n",
       "    }\n",
       "\n",
       "    .dataframe tbody tr th {\n",
       "        vertical-align: top;\n",
       "    }\n",
       "\n",
       "    .dataframe thead th {\n",
       "        text-align: right;\n",
       "    }\n",
       "</style>\n",
       "<table border=\"1\" class=\"dataframe\">\n",
       "  <thead>\n",
       "    <tr style=\"text-align: right;\">\n",
       "      <th></th>\n",
       "      <th>CALENDAR_ID</th>\n",
       "      <th>SERVICE_ABBR</th>\n",
       "      <th>ADHERENCE_ID</th>\n",
       "      <th>DATE</th>\n",
       "      <th>ROUTE_ABBR</th>\n",
       "      <th>BLOCK_ABBR</th>\n",
       "      <th>OPERATOR</th>\n",
       "      <th>TRIP_ID</th>\n",
       "      <th>OVERLOAD_ID</th>\n",
       "      <th>ROUTE_DIRECTION_NAME</th>\n",
       "      <th>...</th>\n",
       "      <th>ACTUAL_HDWY</th>\n",
       "      <th>HDWY_DEV</th>\n",
       "      <th>ADJUSTED_EARLY_COUNT</th>\n",
       "      <th>ADJUSTED_LATE_COUNT</th>\n",
       "      <th>ADJUSTED_ONTIME_COUNT</th>\n",
       "      <th>STOP_CANCELLED</th>\n",
       "      <th>PREV_SCHED_STOP_CANCELLED</th>\n",
       "      <th>IS_RELIEF</th>\n",
       "      <th>BLOCK_STOP_ORDER</th>\n",
       "      <th>DWELL_IN_MINS</th>\n",
       "    </tr>\n",
       "  </thead>\n",
       "  <tbody>\n",
       "    <tr>\n",
       "      <th>0</th>\n",
       "      <td>120230801</td>\n",
       "      <td>1</td>\n",
       "      <td>99457890</td>\n",
       "      <td>2023-08-01</td>\n",
       "      <td>22</td>\n",
       "      <td>2200</td>\n",
       "      <td>1040</td>\n",
       "      <td>345104</td>\n",
       "      <td>0</td>\n",
       "      <td>TO DOWNTOWN</td>\n",
       "      <td>...</td>\n",
       "      <td>NaN</td>\n",
       "      <td>NaN</td>\n",
       "      <td>0</td>\n",
       "      <td>0</td>\n",
       "      <td>1</td>\n",
       "      <td>0</td>\n",
       "      <td>0.0</td>\n",
       "      <td>0</td>\n",
       "      <td>2</td>\n",
       "      <td>6.500000</td>\n",
       "    </tr>\n",
       "    <tr>\n",
       "      <th>1</th>\n",
       "      <td>120230801</td>\n",
       "      <td>1</td>\n",
       "      <td>99457891</td>\n",
       "      <td>2023-08-01</td>\n",
       "      <td>22</td>\n",
       "      <td>2200</td>\n",
       "      <td>1040</td>\n",
       "      <td>345104</td>\n",
       "      <td>0</td>\n",
       "      <td>TO DOWNTOWN</td>\n",
       "      <td>...</td>\n",
       "      <td>NaN</td>\n",
       "      <td>NaN</td>\n",
       "      <td>0</td>\n",
       "      <td>0</td>\n",
       "      <td>1</td>\n",
       "      <td>0</td>\n",
       "      <td>0.0</td>\n",
       "      <td>0</td>\n",
       "      <td>9</td>\n",
       "      <td>0.000000</td>\n",
       "    </tr>\n",
       "    <tr>\n",
       "      <th>2</th>\n",
       "      <td>120230801</td>\n",
       "      <td>1</td>\n",
       "      <td>99457892</td>\n",
       "      <td>2023-08-01</td>\n",
       "      <td>22</td>\n",
       "      <td>2200</td>\n",
       "      <td>1040</td>\n",
       "      <td>345104</td>\n",
       "      <td>0</td>\n",
       "      <td>TO DOWNTOWN</td>\n",
       "      <td>...</td>\n",
       "      <td>NaN</td>\n",
       "      <td>NaN</td>\n",
       "      <td>0</td>\n",
       "      <td>0</td>\n",
       "      <td>1</td>\n",
       "      <td>0</td>\n",
       "      <td>0.0</td>\n",
       "      <td>0</td>\n",
       "      <td>19</td>\n",
       "      <td>0.000000</td>\n",
       "    </tr>\n",
       "    <tr>\n",
       "      <th>3</th>\n",
       "      <td>120230801</td>\n",
       "      <td>1</td>\n",
       "      <td>99457893</td>\n",
       "      <td>2023-08-01</td>\n",
       "      <td>22</td>\n",
       "      <td>2200</td>\n",
       "      <td>1040</td>\n",
       "      <td>345104</td>\n",
       "      <td>0</td>\n",
       "      <td>TO DOWNTOWN</td>\n",
       "      <td>...</td>\n",
       "      <td>NaN</td>\n",
       "      <td>NaN</td>\n",
       "      <td>0</td>\n",
       "      <td>0</td>\n",
       "      <td>1</td>\n",
       "      <td>0</td>\n",
       "      <td>NaN</td>\n",
       "      <td>0</td>\n",
       "      <td>35</td>\n",
       "      <td>0.000000</td>\n",
       "    </tr>\n",
       "    <tr>\n",
       "      <th>4</th>\n",
       "      <td>120230801</td>\n",
       "      <td>1</td>\n",
       "      <td>99457894</td>\n",
       "      <td>2023-08-01</td>\n",
       "      <td>22</td>\n",
       "      <td>2200</td>\n",
       "      <td>1040</td>\n",
       "      <td>345105</td>\n",
       "      <td>0</td>\n",
       "      <td>FROM DOWNTOWN</td>\n",
       "      <td>...</td>\n",
       "      <td>NaN</td>\n",
       "      <td>NaN</td>\n",
       "      <td>0</td>\n",
       "      <td>0</td>\n",
       "      <td>1</td>\n",
       "      <td>0</td>\n",
       "      <td>0.0</td>\n",
       "      <td>0</td>\n",
       "      <td>36</td>\n",
       "      <td>12.866666</td>\n",
       "    </tr>\n",
       "  </tbody>\n",
       "</table>\n",
       "<p>5 rows × 30 columns</p>\n",
       "</div>"
      ],
      "text/plain": [
       "   CALENDAR_ID  SERVICE_ABBR  ADHERENCE_ID       DATE  ROUTE_ABBR  BLOCK_ABBR  \\\n",
       "0    120230801             1      99457890 2023-08-01          22        2200   \n",
       "1    120230801             1      99457891 2023-08-01          22        2200   \n",
       "2    120230801             1      99457892 2023-08-01          22        2200   \n",
       "3    120230801             1      99457893 2023-08-01          22        2200   \n",
       "4    120230801             1      99457894 2023-08-01          22        2200   \n",
       "\n",
       "   OPERATOR  TRIP_ID  OVERLOAD_ID ROUTE_DIRECTION_NAME  ... ACTUAL_HDWY  \\\n",
       "0      1040   345104            0          TO DOWNTOWN  ...         NaN   \n",
       "1      1040   345104            0          TO DOWNTOWN  ...         NaN   \n",
       "2      1040   345104            0          TO DOWNTOWN  ...         NaN   \n",
       "3      1040   345104            0          TO DOWNTOWN  ...         NaN   \n",
       "4      1040   345105            0        FROM DOWNTOWN  ...         NaN   \n",
       "\n",
       "   HDWY_DEV  ADJUSTED_EARLY_COUNT  ADJUSTED_LATE_COUNT  ADJUSTED_ONTIME_COUNT  \\\n",
       "0       NaN                     0                    0                      1   \n",
       "1       NaN                     0                    0                      1   \n",
       "2       NaN                     0                    0                      1   \n",
       "3       NaN                     0                    0                      1   \n",
       "4       NaN                     0                    0                      1   \n",
       "\n",
       "  STOP_CANCELLED PREV_SCHED_STOP_CANCELLED IS_RELIEF  BLOCK_STOP_ORDER  \\\n",
       "0              0                       0.0         0                 2   \n",
       "1              0                       0.0         0                 9   \n",
       "2              0                       0.0         0                19   \n",
       "3              0                       NaN         0                35   \n",
       "4              0                       0.0         0                36   \n",
       "\n",
       "   DWELL_IN_MINS  \n",
       "0       6.500000  \n",
       "1       0.000000  \n",
       "2       0.000000  \n",
       "3       0.000000  \n",
       "4      12.866666  \n",
       "\n",
       "[5 rows x 30 columns]"
      ]
     },
     "execution_count": 28,
     "metadata": {},
     "output_type": "execute_result"
    }
   ],
   "source": [
    "bus.head()"
   ]
  },
  {
   "cell_type": "code",
   "execution_count": null,
   "metadata": {},
   "outputs": [],
   "source": [
    "# subset bus to just TRIP_EDGE == 1 or 2\n",
    "# edge_1 = bus[bus['TRIP_EDGE'] == 1]\n",
    "# edge_2 = bus[bus['TRIP_EDGE'] == 2]\n",
    "# print(edge_1['TRIP_EDGE'].value_counts())\n",
    "# print(edge_2['TRIP_EDGE'].value_counts())\n",
    "# print(edge_1['TRIP_ID'].nunique())\n",
    "# print(edge_2['TRIP_ID'].nunique())"
   ]
  },
  {
   "cell_type": "code",
   "execution_count": 29,
   "metadata": {},
   "outputs": [
    {
     "data": {
      "text/plain": [
       "OVERLOAD_ID\n",
       "0    348424\n",
       "1      1559\n",
       "2       278\n",
       "3        60\n",
       "4         7\n",
       "Name: count, dtype: int64"
      ]
     },
     "execution_count": 29,
     "metadata": {},
     "output_type": "execute_result"
    }
   ],
   "source": [
    "bus['OVERLOAD_ID'].value_counts()"
   ]
  },
  {
   "cell_type": "code",
   "execution_count": 30,
   "metadata": {},
   "outputs": [
    {
     "data": {
      "text/html": [
       "<div>\n",
       "<style scoped>\n",
       "    .dataframe tbody tr th:only-of-type {\n",
       "        vertical-align: middle;\n",
       "    }\n",
       "\n",
       "    .dataframe tbody tr th {\n",
       "        vertical-align: top;\n",
       "    }\n",
       "\n",
       "    .dataframe thead th {\n",
       "        text-align: right;\n",
       "    }\n",
       "</style>\n",
       "<table border=\"1\" class=\"dataframe\">\n",
       "  <thead>\n",
       "    <tr style=\"text-align: right;\">\n",
       "      <th></th>\n",
       "      <th>CALENDAR_ID</th>\n",
       "      <th>SERVICE_ABBR</th>\n",
       "      <th>ADHERENCE_ID</th>\n",
       "      <th>DATE</th>\n",
       "      <th>ROUTE_ABBR</th>\n",
       "      <th>BLOCK_ABBR</th>\n",
       "      <th>OPERATOR</th>\n",
       "      <th>TRIP_ID</th>\n",
       "      <th>OVERLOAD_ID</th>\n",
       "      <th>ROUTE_DIRECTION_NAME</th>\n",
       "      <th>...</th>\n",
       "      <th>HDWY_DEV</th>\n",
       "      <th>ADJUSTED_EARLY_COUNT</th>\n",
       "      <th>ADJUSTED_LATE_COUNT</th>\n",
       "      <th>ADJUSTED_ONTIME_COUNT</th>\n",
       "      <th>STOP_CANCELLED</th>\n",
       "      <th>PREV_SCHED_STOP_CANCELLED</th>\n",
       "      <th>IS_RELIEF</th>\n",
       "      <th>BLOCK_STOP_ORDER</th>\n",
       "      <th>DWELL_IN_MINS</th>\n",
       "      <th>trip_date</th>\n",
       "    </tr>\n",
       "  </thead>\n",
       "  <tbody>\n",
       "    <tr>\n",
       "      <th>0</th>\n",
       "      <td>120230801</td>\n",
       "      <td>1</td>\n",
       "      <td>99457890</td>\n",
       "      <td>2023-08-01</td>\n",
       "      <td>22</td>\n",
       "      <td>2200</td>\n",
       "      <td>1040</td>\n",
       "      <td>345104</td>\n",
       "      <td>0</td>\n",
       "      <td>TO DOWNTOWN</td>\n",
       "      <td>...</td>\n",
       "      <td>NaN</td>\n",
       "      <td>0</td>\n",
       "      <td>0</td>\n",
       "      <td>1</td>\n",
       "      <td>0</td>\n",
       "      <td>0.0</td>\n",
       "      <td>0</td>\n",
       "      <td>2</td>\n",
       "      <td>6.5</td>\n",
       "      <td>345104120230801</td>\n",
       "    </tr>\n",
       "  </tbody>\n",
       "</table>\n",
       "<p>1 rows × 31 columns</p>\n",
       "</div>"
      ],
      "text/plain": [
       "   CALENDAR_ID  SERVICE_ABBR  ADHERENCE_ID       DATE  ROUTE_ABBR  BLOCK_ABBR  \\\n",
       "0    120230801             1      99457890 2023-08-01          22        2200   \n",
       "\n",
       "   OPERATOR  TRIP_ID  OVERLOAD_ID ROUTE_DIRECTION_NAME  ... HDWY_DEV  \\\n",
       "0      1040   345104            0          TO DOWNTOWN  ...      NaN   \n",
       "\n",
       "   ADJUSTED_EARLY_COUNT  ADJUSTED_LATE_COUNT  ADJUSTED_ONTIME_COUNT  \\\n",
       "0                     0                    0                      1   \n",
       "\n",
       "   STOP_CANCELLED PREV_SCHED_STOP_CANCELLED IS_RELIEF BLOCK_STOP_ORDER  \\\n",
       "0               0                       0.0         0                2   \n",
       "\n",
       "   DWELL_IN_MINS        trip_date  \n",
       "0            6.5  345104120230801  \n",
       "\n",
       "[1 rows x 31 columns]"
      ]
     },
     "execution_count": 30,
     "metadata": {},
     "output_type": "execute_result"
    }
   ],
   "source": [
    "# add column with concat trip id and date to create actual unique trip id\n",
    "bus['trip_date'] = bus['TRIP_ID'].astype('str') + bus['CALENDAR_ID'].astype('str')\n",
    "\n",
    "bus.head(1)"
   ]
  },
  {
   "cell_type": "code",
   "execution_count": 46,
   "metadata": {},
   "outputs": [
    {
     "data": {
      "text/plain": [
       "TRIP_EDGE\n",
       "0    215185\n",
       "2     67728\n",
       "1     67415\n",
       "Name: count, dtype: int64"
      ]
     },
     "execution_count": 46,
     "metadata": {},
     "output_type": "execute_result"
    }
   ],
   "source": [
    "bus['TRIP_EDGE'].value_counts()"
   ]
  },
  {
   "cell_type": "code",
   "execution_count": 31,
   "metadata": {},
   "outputs": [
    {
     "data": {
      "text/plain": [
       "(348424, 31)"
      ]
     },
     "execution_count": 31,
     "metadata": {},
     "output_type": "execute_result"
    }
   ],
   "source": [
    "# take out trip which are non-scheduled services\n",
    "no_overload = bus[bus['OVERLOAD_ID'] == 0]\n",
    "no_overload.shape"
   ]
  },
  {
   "cell_type": "code",
   "execution_count": 32,
   "metadata": {},
   "outputs": [
    {
     "name": "stdout",
     "output_type": "stream",
     "text": [
      "TRIP_EDGE\n",
      "1    67355\n",
      "Name: count, dtype: int64\n",
      "TRIP_EDGE\n",
      "2    67354\n",
      "Name: count, dtype: int64\n",
      "trip_date\n",
      "345104120230801    1\n",
      "350271120230911    1\n",
      "350273120230911    1\n",
      "350274120230911    1\n",
      "350275120230911    1\n",
      "                  ..\n",
      "351238120230821    1\n",
      "351239120230821    1\n",
      "351240120230821    1\n",
      "351241120230821    1\n",
      "353449120230930    1\n",
      "Name: count, Length: 67355, dtype: int64\n",
      "67354\n"
     ]
    }
   ],
   "source": [
    "# after taking out trips where overload_id != 0 (0 is for scheduled service, anything else means it was added often to cover a broken down bus)\n",
    "# subset bus to just TRIP_EDGE == 1 or 2\n",
    "edge_1 = no_overload[no_overload['TRIP_EDGE'] == 1]\n",
    "edge_2 = no_overload[no_overload['TRIP_EDGE'] == 2]\n",
    "print(edge_1['TRIP_EDGE'].value_counts())\n",
    "print(edge_2['TRIP_EDGE'].value_counts())\n",
    "print(edge_1['trip_date'].value_counts())\n",
    "print(edge_2['trip_date'].nunique())"
   ]
  },
  {
   "cell_type": "code",
   "execution_count": 33,
   "metadata": {},
   "outputs": [
    {
     "data": {
      "text/plain": [
       "ADHERENCE_ID\n",
       "99457890     1\n",
       "100624112    1\n",
       "100624120    1\n",
       "100624119    1\n",
       "100624118    1\n",
       "            ..\n",
       "100035186    1\n",
       "100035185    1\n",
       "100035184    1\n",
       "100035183    1\n",
       "100406614    1\n",
       "Name: count, Length: 350328, dtype: int64"
      ]
     },
     "execution_count": 33,
     "metadata": {},
     "output_type": "execute_result"
    }
   ],
   "source": [
    "# unique to each row but not for a trip as a whole\n",
    "bus['ADHERENCE_ID'].value_counts()"
   ]
  },
  {
   "cell_type": "code",
   "execution_count": 34,
   "metadata": {},
   "outputs": [
    {
     "name": "stdout",
     "output_type": "stream",
     "text": [
      "2\n",
      "(67001,)\n"
     ]
    }
   ],
   "source": [
    "# subset to only include trips with exactly one start (1) and one end (2)\n",
    "\n",
    "# group by trip and count occurence of each value present in TRIP_EDGE\n",
    "trip_ids = bus[bus['TRIP_EDGE'].isin([1, 2])]\n",
    "print(trip_ids['TRIP_EDGE'].nunique())\n",
    "\n",
    "# selects trips with exactly one edge == 1 and one edge == 2\n",
    "counts = trip_ids.groupby(['trip_date', 'TRIP_EDGE']).size().unstack(fill_value = 0)\n",
    "valid_trips = counts[(counts[1] == 1) & (counts[2] == 1)].index\n",
    "print(valid_trips.shape)\n",
    "\n",
    "# subset\n",
    "complete_trips = bus[bus['trip_date'].isin(valid_trips)]"
   ]
  },
  {
   "cell_type": "code",
   "execution_count": 51,
   "metadata": {},
   "outputs": [
    {
     "name": "stdout",
     "output_type": "stream",
     "text": [
      "2\n",
      "(67351,)\n"
     ]
    }
   ],
   "source": [
    "# subset to only include trips with exactly one start (1) and one end (2)\n",
    "# using no_overload df\n",
    "\n",
    "# group by trip and count occurence of each value present in TRIP_EDGE\n",
    "trip_ids_no = no_overload[no_overload['TRIP_EDGE'].isin([1, 2])]\n",
    "print(trip_ids_no['TRIP_EDGE'].nunique())\n",
    "\n",
    "# selects trips with exactly one edge == 1 and one edge == 2\n",
    "counts_no = trip_ids_no.groupby(['trip_date', 'TRIP_EDGE']).size().unstack(fill_value = 0)\n",
    "valid_trips_no = counts_no[(counts_no[1] == 1) & (counts_no[2] == 1)].index\n",
    "print(valid_trips_no.shape)\n",
    "\n",
    "# subset\n",
    "complete_trips_no = no_overload[no_overload['trip_date'].isin(valid_trips_no)]"
   ]
  },
  {
   "cell_type": "code",
   "execution_count": 52,
   "metadata": {},
   "outputs": [
    {
     "data": {
      "text/plain": [
       "trip_date\n",
       "345104120230801    2\n",
       "350269120230911    2\n",
       "350271120230911    2\n",
       "350272120230911    2\n",
       "350273120230911    2\n",
       "                  ..\n",
       "353354120230815    1\n",
       "352124120230804    1\n",
       "353048120230929    1\n",
       "353049120230929    1\n",
       "352011120230919    1\n",
       "Name: count, Length: 67358, dtype: int64"
      ]
     },
     "execution_count": 52,
     "metadata": {},
     "output_type": "execute_result"
    }
   ],
   "source": [
    "trip_ids_no['trip_date'].value_counts()"
   ]
  },
  {
   "cell_type": "code",
   "execution_count": 50,
   "metadata": {},
   "outputs": [
    {
     "data": {
      "text/plain": [
       "trip_date\n",
       "350169120230909    4\n",
       "352285120230929    4\n",
       "350277120230913    4\n",
       "352790120230804    4\n",
       "352999120230915    4\n",
       "                  ..\n",
       "351344120230830    1\n",
       "352714120230810    1\n",
       "352729120230901    1\n",
       "352126120230804    1\n",
       "352010120230919    1\n",
       "Name: count, Length: 67370, dtype: int64"
      ]
     },
     "execution_count": 50,
     "metadata": {},
     "output_type": "execute_result"
    }
   ],
   "source": [
    "trip_ids['trip_date'].value_counts()"
   ]
  },
  {
   "cell_type": "code",
   "execution_count": 35,
   "metadata": {},
   "outputs": [
    {
     "data": {
      "text/html": [
       "<div>\n",
       "<style scoped>\n",
       "    .dataframe tbody tr th:only-of-type {\n",
       "        vertical-align: middle;\n",
       "    }\n",
       "\n",
       "    .dataframe tbody tr th {\n",
       "        vertical-align: top;\n",
       "    }\n",
       "\n",
       "    .dataframe thead th {\n",
       "        text-align: right;\n",
       "    }\n",
       "</style>\n",
       "<table border=\"1\" class=\"dataframe\">\n",
       "  <thead>\n",
       "    <tr style=\"text-align: right;\">\n",
       "      <th></th>\n",
       "      <th>CALENDAR_ID</th>\n",
       "      <th>SERVICE_ABBR</th>\n",
       "      <th>ADHERENCE_ID</th>\n",
       "      <th>DATE</th>\n",
       "      <th>ROUTE_ABBR</th>\n",
       "      <th>BLOCK_ABBR</th>\n",
       "      <th>OPERATOR</th>\n",
       "      <th>TRIP_ID</th>\n",
       "      <th>OVERLOAD_ID</th>\n",
       "      <th>ROUTE_DIRECTION_NAME</th>\n",
       "      <th>...</th>\n",
       "      <th>HDWY_DEV</th>\n",
       "      <th>ADJUSTED_EARLY_COUNT</th>\n",
       "      <th>ADJUSTED_LATE_COUNT</th>\n",
       "      <th>ADJUSTED_ONTIME_COUNT</th>\n",
       "      <th>STOP_CANCELLED</th>\n",
       "      <th>PREV_SCHED_STOP_CANCELLED</th>\n",
       "      <th>IS_RELIEF</th>\n",
       "      <th>BLOCK_STOP_ORDER</th>\n",
       "      <th>DWELL_IN_MINS</th>\n",
       "      <th>trip_date</th>\n",
       "    </tr>\n",
       "  </thead>\n",
       "  <tbody>\n",
       "    <tr>\n",
       "      <th>0</th>\n",
       "      <td>120230801</td>\n",
       "      <td>1</td>\n",
       "      <td>99457890</td>\n",
       "      <td>2023-08-01</td>\n",
       "      <td>22</td>\n",
       "      <td>2200</td>\n",
       "      <td>1040</td>\n",
       "      <td>345104</td>\n",
       "      <td>0</td>\n",
       "      <td>TO DOWNTOWN</td>\n",
       "      <td>...</td>\n",
       "      <td>NaN</td>\n",
       "      <td>0</td>\n",
       "      <td>0</td>\n",
       "      <td>1</td>\n",
       "      <td>0</td>\n",
       "      <td>0.0</td>\n",
       "      <td>0</td>\n",
       "      <td>2</td>\n",
       "      <td>6.500000</td>\n",
       "      <td>345104120230801</td>\n",
       "    </tr>\n",
       "    <tr>\n",
       "      <th>1</th>\n",
       "      <td>120230801</td>\n",
       "      <td>1</td>\n",
       "      <td>99457891</td>\n",
       "      <td>2023-08-01</td>\n",
       "      <td>22</td>\n",
       "      <td>2200</td>\n",
       "      <td>1040</td>\n",
       "      <td>345104</td>\n",
       "      <td>0</td>\n",
       "      <td>TO DOWNTOWN</td>\n",
       "      <td>...</td>\n",
       "      <td>NaN</td>\n",
       "      <td>0</td>\n",
       "      <td>0</td>\n",
       "      <td>1</td>\n",
       "      <td>0</td>\n",
       "      <td>0.0</td>\n",
       "      <td>0</td>\n",
       "      <td>9</td>\n",
       "      <td>0.000000</td>\n",
       "      <td>345104120230801</td>\n",
       "    </tr>\n",
       "    <tr>\n",
       "      <th>2</th>\n",
       "      <td>120230801</td>\n",
       "      <td>1</td>\n",
       "      <td>99457892</td>\n",
       "      <td>2023-08-01</td>\n",
       "      <td>22</td>\n",
       "      <td>2200</td>\n",
       "      <td>1040</td>\n",
       "      <td>345104</td>\n",
       "      <td>0</td>\n",
       "      <td>TO DOWNTOWN</td>\n",
       "      <td>...</td>\n",
       "      <td>NaN</td>\n",
       "      <td>0</td>\n",
       "      <td>0</td>\n",
       "      <td>1</td>\n",
       "      <td>0</td>\n",
       "      <td>0.0</td>\n",
       "      <td>0</td>\n",
       "      <td>19</td>\n",
       "      <td>0.000000</td>\n",
       "      <td>345104120230801</td>\n",
       "    </tr>\n",
       "    <tr>\n",
       "      <th>3</th>\n",
       "      <td>120230801</td>\n",
       "      <td>1</td>\n",
       "      <td>99457893</td>\n",
       "      <td>2023-08-01</td>\n",
       "      <td>22</td>\n",
       "      <td>2200</td>\n",
       "      <td>1040</td>\n",
       "      <td>345104</td>\n",
       "      <td>0</td>\n",
       "      <td>TO DOWNTOWN</td>\n",
       "      <td>...</td>\n",
       "      <td>NaN</td>\n",
       "      <td>0</td>\n",
       "      <td>0</td>\n",
       "      <td>1</td>\n",
       "      <td>0</td>\n",
       "      <td>NaN</td>\n",
       "      <td>0</td>\n",
       "      <td>35</td>\n",
       "      <td>0.000000</td>\n",
       "      <td>345104120230801</td>\n",
       "    </tr>\n",
       "    <tr>\n",
       "      <th>4</th>\n",
       "      <td>120230801</td>\n",
       "      <td>1</td>\n",
       "      <td>99457894</td>\n",
       "      <td>2023-08-01</td>\n",
       "      <td>22</td>\n",
       "      <td>2200</td>\n",
       "      <td>1040</td>\n",
       "      <td>345105</td>\n",
       "      <td>0</td>\n",
       "      <td>FROM DOWNTOWN</td>\n",
       "      <td>...</td>\n",
       "      <td>NaN</td>\n",
       "      <td>0</td>\n",
       "      <td>0</td>\n",
       "      <td>1</td>\n",
       "      <td>0</td>\n",
       "      <td>0.0</td>\n",
       "      <td>0</td>\n",
       "      <td>36</td>\n",
       "      <td>12.866666</td>\n",
       "      <td>345105120230801</td>\n",
       "    </tr>\n",
       "  </tbody>\n",
       "</table>\n",
       "<p>5 rows × 31 columns</p>\n",
       "</div>"
      ],
      "text/plain": [
       "   CALENDAR_ID  SERVICE_ABBR  ADHERENCE_ID       DATE  ROUTE_ABBR  BLOCK_ABBR  \\\n",
       "0    120230801             1      99457890 2023-08-01          22        2200   \n",
       "1    120230801             1      99457891 2023-08-01          22        2200   \n",
       "2    120230801             1      99457892 2023-08-01          22        2200   \n",
       "3    120230801             1      99457893 2023-08-01          22        2200   \n",
       "4    120230801             1      99457894 2023-08-01          22        2200   \n",
       "\n",
       "   OPERATOR  TRIP_ID  OVERLOAD_ID ROUTE_DIRECTION_NAME  ... HDWY_DEV  \\\n",
       "0      1040   345104            0          TO DOWNTOWN  ...      NaN   \n",
       "1      1040   345104            0          TO DOWNTOWN  ...      NaN   \n",
       "2      1040   345104            0          TO DOWNTOWN  ...      NaN   \n",
       "3      1040   345104            0          TO DOWNTOWN  ...      NaN   \n",
       "4      1040   345105            0        FROM DOWNTOWN  ...      NaN   \n",
       "\n",
       "   ADJUSTED_EARLY_COUNT  ADJUSTED_LATE_COUNT  ADJUSTED_ONTIME_COUNT  \\\n",
       "0                     0                    0                      1   \n",
       "1                     0                    0                      1   \n",
       "2                     0                    0                      1   \n",
       "3                     0                    0                      1   \n",
       "4                     0                    0                      1   \n",
       "\n",
       "   STOP_CANCELLED PREV_SCHED_STOP_CANCELLED IS_RELIEF BLOCK_STOP_ORDER  \\\n",
       "0               0                       0.0         0                2   \n",
       "1               0                       0.0         0                9   \n",
       "2               0                       0.0         0               19   \n",
       "3               0                       NaN         0               35   \n",
       "4               0                       0.0         0               36   \n",
       "\n",
       "   DWELL_IN_MINS        trip_date  \n",
       "0       6.500000  345104120230801  \n",
       "1       0.000000  345104120230801  \n",
       "2       0.000000  345104120230801  \n",
       "3       0.000000  345104120230801  \n",
       "4      12.866666  345105120230801  \n",
       "\n",
       "[5 rows x 31 columns]"
      ]
     },
     "execution_count": 35,
     "metadata": {},
     "output_type": "execute_result"
    }
   ],
   "source": [
    "complete_trips.head()"
   ]
  },
  {
   "cell_type": "code",
   "execution_count": 53,
   "metadata": {},
   "outputs": [
    {
     "data": {
      "text/plain": [
       "TRIP_EDGE\n",
       "0    213711\n",
       "1     67351\n",
       "2     67351\n",
       "Name: count, dtype: int64"
      ]
     },
     "execution_count": 53,
     "metadata": {},
     "output_type": "execute_result"
    }
   ],
   "source": [
    "complete_trips_no['TRIP_EDGE'].value_counts()"
   ]
  },
  {
   "cell_type": "code",
   "execution_count": 37,
   "metadata": {},
   "outputs": [
    {
     "data": {
      "text/plain": [
       "str"
      ]
     },
     "execution_count": 37,
     "metadata": {},
     "output_type": "execute_result"
    }
   ],
   "source": [
    "type(complete_trips['SCHEDULED_TIME'][0])"
   ]
  },
  {
   "cell_type": "code",
   "execution_count": 40,
   "metadata": {},
   "outputs": [
    {
     "name": "stderr",
     "output_type": "stream",
     "text": [
      "/var/folders/xm/vmtk5pms0jzb2kmtm00lwtn80000gn/T/ipykernel_12508/4152282636.py:3: SettingWithCopyWarning: \n",
      "A value is trying to be set on a copy of a slice from a DataFrame.\n",
      "Try using .loc[row_indexer,col_indexer] = value instead\n",
      "\n",
      "See the caveats in the documentation: https://pandas.pydata.org/pandas-docs/stable/user_guide/indexing.html#returning-a-view-versus-a-copy\n",
      "  complete_trips['weekday'] = complete_trips['DATE'].dt.dayofweek\n",
      "/var/folders/xm/vmtk5pms0jzb2kmtm00lwtn80000gn/T/ipykernel_12508/4152282636.py:4: SettingWithCopyWarning: \n",
      "A value is trying to be set on a copy of a slice from a DataFrame.\n",
      "Try using .loc[row_indexer,col_indexer] = value instead\n",
      "\n",
      "See the caveats in the documentation: https://pandas.pydata.org/pandas-docs/stable/user_guide/indexing.html#returning-a-view-versus-a-copy\n",
      "  complete_trips['day_name'] = complete_trips['DATE'].dt.day_name()\n"
     ]
    }
   ],
   "source": [
    "# add weekday column (derived from date and useful for identifying days where the service is other than expected, probably just Labor Day)\n",
    "# also adding day name\n",
    "complete_trips['weekday'] = complete_trips['DATE'].dt.dayofweek\n",
    "complete_trips['day_name'] = complete_trips['DATE'].dt.day_name()"
   ]
  },
  {
   "cell_type": "code",
   "execution_count": 41,
   "metadata": {},
   "outputs": [
    {
     "data": {
      "text/html": [
       "<div>\n",
       "<style scoped>\n",
       "    .dataframe tbody tr th:only-of-type {\n",
       "        vertical-align: middle;\n",
       "    }\n",
       "\n",
       "    .dataframe tbody tr th {\n",
       "        vertical-align: top;\n",
       "    }\n",
       "\n",
       "    .dataframe thead th {\n",
       "        text-align: right;\n",
       "    }\n",
       "</style>\n",
       "<table border=\"1\" class=\"dataframe\">\n",
       "  <thead>\n",
       "    <tr style=\"text-align: right;\">\n",
       "      <th></th>\n",
       "      <th>CALENDAR_ID</th>\n",
       "      <th>SERVICE_ABBR</th>\n",
       "      <th>ADHERENCE_ID</th>\n",
       "      <th>DATE</th>\n",
       "      <th>ROUTE_ABBR</th>\n",
       "      <th>BLOCK_ABBR</th>\n",
       "      <th>OPERATOR</th>\n",
       "      <th>TRIP_ID</th>\n",
       "      <th>OVERLOAD_ID</th>\n",
       "      <th>ROUTE_DIRECTION_NAME</th>\n",
       "      <th>...</th>\n",
       "      <th>ADJUSTED_LATE_COUNT</th>\n",
       "      <th>ADJUSTED_ONTIME_COUNT</th>\n",
       "      <th>STOP_CANCELLED</th>\n",
       "      <th>PREV_SCHED_STOP_CANCELLED</th>\n",
       "      <th>IS_RELIEF</th>\n",
       "      <th>BLOCK_STOP_ORDER</th>\n",
       "      <th>DWELL_IN_MINS</th>\n",
       "      <th>trip_date</th>\n",
       "      <th>weekday</th>\n",
       "      <th>day_name</th>\n",
       "    </tr>\n",
       "  </thead>\n",
       "  <tbody>\n",
       "    <tr>\n",
       "      <th>0</th>\n",
       "      <td>120230801</td>\n",
       "      <td>1</td>\n",
       "      <td>99457890</td>\n",
       "      <td>2023-08-01</td>\n",
       "      <td>22</td>\n",
       "      <td>2200</td>\n",
       "      <td>1040</td>\n",
       "      <td>345104</td>\n",
       "      <td>0</td>\n",
       "      <td>TO DOWNTOWN</td>\n",
       "      <td>...</td>\n",
       "      <td>0</td>\n",
       "      <td>1</td>\n",
       "      <td>0</td>\n",
       "      <td>0.0</td>\n",
       "      <td>0</td>\n",
       "      <td>2</td>\n",
       "      <td>6.500000</td>\n",
       "      <td>345104120230801</td>\n",
       "      <td>1</td>\n",
       "      <td>Tuesday</td>\n",
       "    </tr>\n",
       "    <tr>\n",
       "      <th>1</th>\n",
       "      <td>120230801</td>\n",
       "      <td>1</td>\n",
       "      <td>99457891</td>\n",
       "      <td>2023-08-01</td>\n",
       "      <td>22</td>\n",
       "      <td>2200</td>\n",
       "      <td>1040</td>\n",
       "      <td>345104</td>\n",
       "      <td>0</td>\n",
       "      <td>TO DOWNTOWN</td>\n",
       "      <td>...</td>\n",
       "      <td>0</td>\n",
       "      <td>1</td>\n",
       "      <td>0</td>\n",
       "      <td>0.0</td>\n",
       "      <td>0</td>\n",
       "      <td>9</td>\n",
       "      <td>0.000000</td>\n",
       "      <td>345104120230801</td>\n",
       "      <td>1</td>\n",
       "      <td>Tuesday</td>\n",
       "    </tr>\n",
       "    <tr>\n",
       "      <th>2</th>\n",
       "      <td>120230801</td>\n",
       "      <td>1</td>\n",
       "      <td>99457892</td>\n",
       "      <td>2023-08-01</td>\n",
       "      <td>22</td>\n",
       "      <td>2200</td>\n",
       "      <td>1040</td>\n",
       "      <td>345104</td>\n",
       "      <td>0</td>\n",
       "      <td>TO DOWNTOWN</td>\n",
       "      <td>...</td>\n",
       "      <td>0</td>\n",
       "      <td>1</td>\n",
       "      <td>0</td>\n",
       "      <td>0.0</td>\n",
       "      <td>0</td>\n",
       "      <td>19</td>\n",
       "      <td>0.000000</td>\n",
       "      <td>345104120230801</td>\n",
       "      <td>1</td>\n",
       "      <td>Tuesday</td>\n",
       "    </tr>\n",
       "    <tr>\n",
       "      <th>3</th>\n",
       "      <td>120230801</td>\n",
       "      <td>1</td>\n",
       "      <td>99457893</td>\n",
       "      <td>2023-08-01</td>\n",
       "      <td>22</td>\n",
       "      <td>2200</td>\n",
       "      <td>1040</td>\n",
       "      <td>345104</td>\n",
       "      <td>0</td>\n",
       "      <td>TO DOWNTOWN</td>\n",
       "      <td>...</td>\n",
       "      <td>0</td>\n",
       "      <td>1</td>\n",
       "      <td>0</td>\n",
       "      <td>NaN</td>\n",
       "      <td>0</td>\n",
       "      <td>35</td>\n",
       "      <td>0.000000</td>\n",
       "      <td>345104120230801</td>\n",
       "      <td>1</td>\n",
       "      <td>Tuesday</td>\n",
       "    </tr>\n",
       "    <tr>\n",
       "      <th>4</th>\n",
       "      <td>120230801</td>\n",
       "      <td>1</td>\n",
       "      <td>99457894</td>\n",
       "      <td>2023-08-01</td>\n",
       "      <td>22</td>\n",
       "      <td>2200</td>\n",
       "      <td>1040</td>\n",
       "      <td>345105</td>\n",
       "      <td>0</td>\n",
       "      <td>FROM DOWNTOWN</td>\n",
       "      <td>...</td>\n",
       "      <td>0</td>\n",
       "      <td>1</td>\n",
       "      <td>0</td>\n",
       "      <td>0.0</td>\n",
       "      <td>0</td>\n",
       "      <td>36</td>\n",
       "      <td>12.866666</td>\n",
       "      <td>345105120230801</td>\n",
       "      <td>1</td>\n",
       "      <td>Tuesday</td>\n",
       "    </tr>\n",
       "  </tbody>\n",
       "</table>\n",
       "<p>5 rows × 33 columns</p>\n",
       "</div>"
      ],
      "text/plain": [
       "   CALENDAR_ID  SERVICE_ABBR  ADHERENCE_ID       DATE  ROUTE_ABBR  BLOCK_ABBR  \\\n",
       "0    120230801             1      99457890 2023-08-01          22        2200   \n",
       "1    120230801             1      99457891 2023-08-01          22        2200   \n",
       "2    120230801             1      99457892 2023-08-01          22        2200   \n",
       "3    120230801             1      99457893 2023-08-01          22        2200   \n",
       "4    120230801             1      99457894 2023-08-01          22        2200   \n",
       "\n",
       "   OPERATOR  TRIP_ID  OVERLOAD_ID ROUTE_DIRECTION_NAME  ...  \\\n",
       "0      1040   345104            0          TO DOWNTOWN  ...   \n",
       "1      1040   345104            0          TO DOWNTOWN  ...   \n",
       "2      1040   345104            0          TO DOWNTOWN  ...   \n",
       "3      1040   345104            0          TO DOWNTOWN  ...   \n",
       "4      1040   345105            0        FROM DOWNTOWN  ...   \n",
       "\n",
       "  ADJUSTED_LATE_COUNT  ADJUSTED_ONTIME_COUNT  STOP_CANCELLED  \\\n",
       "0                   0                      1               0   \n",
       "1                   0                      1               0   \n",
       "2                   0                      1               0   \n",
       "3                   0                      1               0   \n",
       "4                   0                      1               0   \n",
       "\n",
       "   PREV_SCHED_STOP_CANCELLED  IS_RELIEF BLOCK_STOP_ORDER DWELL_IN_MINS  \\\n",
       "0                        0.0          0                2      6.500000   \n",
       "1                        0.0          0                9      0.000000   \n",
       "2                        0.0          0               19      0.000000   \n",
       "3                        NaN          0               35      0.000000   \n",
       "4                        0.0          0               36     12.866666   \n",
       "\n",
       "         trip_date  weekday  day_name  \n",
       "0  345104120230801        1   Tuesday  \n",
       "1  345104120230801        1   Tuesday  \n",
       "2  345104120230801        1   Tuesday  \n",
       "3  345104120230801        1   Tuesday  \n",
       "4  345105120230801        1   Tuesday  \n",
       "\n",
       "[5 rows x 33 columns]"
      ]
     },
     "execution_count": 41,
     "metadata": {},
     "output_type": "execute_result"
    }
   ],
   "source": [
    "complete_trips.head()"
   ]
  },
  {
   "cell_type": "code",
   "execution_count": 43,
   "metadata": {},
   "outputs": [
    {
     "data": {
      "text/plain": [
       "67001"
      ]
     },
     "execution_count": 43,
     "metadata": {},
     "output_type": "execute_result"
    }
   ],
   "source": [
    "complete_trips.groupby('trip_date').nunique()"
   ]
  },
  {
   "cell_type": "code",
   "execution_count": 44,
   "metadata": {},
   "outputs": [
    {
     "data": {
      "text/plain": [
       "3987"
      ]
     },
     "execution_count": 44,
     "metadata": {},
     "output_type": "execute_result"
    }
   ],
   "source": [
    "complete_trips['TRIP_ID'].nunique()"
   ]
  },
  {
   "cell_type": "code",
   "execution_count": 58,
   "metadata": {},
   "outputs": [
    {
     "data": {
      "text/plain": [
       "3987"
      ]
     },
     "execution_count": 58,
     "metadata": {},
     "output_type": "execute_result"
    }
   ],
   "source": [
    "complete_trips_no['TRIP_ID'].nunique()"
   ]
  },
  {
   "cell_type": "markdown",
   "metadata": {},
   "source": [
    "complete_trips_no are complete trips (with both a 1 and a 2) only including scheduled service (overhead id == 0)\n",
    "This results in ~ 60 fewer complete trips than including other overhead ids, however there will be duplicate trip_date ids since the replacement service buses are given the same trip id as the original scheduled bus"
   ]
  },
  {
   "cell_type": "code",
   "execution_count": 59,
   "metadata": {},
   "outputs": [],
   "source": [
    "complete_trips_no.to_csv('../data/complete_scheduled_trips', index = False)"
   ]
  },
  {
   "cell_type": "code",
   "execution_count": null,
   "metadata": {},
   "outputs": [],
   "source": []
  }
 ],
 "metadata": {
  "kernelspec": {
   "display_name": "geospatial_ds",
   "language": "python",
   "name": "python3"
  },
  "language_info": {
   "codemirror_mode": {
    "name": "ipython",
    "version": 3
   },
   "file_extension": ".py",
   "mimetype": "text/x-python",
   "name": "python",
   "nbconvert_exporter": "python",
   "pygments_lexer": "ipython3",
   "version": "3.12.0"
  },
  "orig_nbformat": 4
 },
 "nbformat": 4,
 "nbformat_minor": 2
}
